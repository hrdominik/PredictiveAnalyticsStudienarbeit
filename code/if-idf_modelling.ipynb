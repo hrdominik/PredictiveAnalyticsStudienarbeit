{
 "cells": [
  {
   "cell_type": "code",
   "execution_count": 1,
   "source": [
    "import pandas as pd\r\n",
    "import numpy as np\r\n",
    "from sklearn.feature_extraction.text import CountVectorizer\r\n",
    "from sklearn.feature_extraction.text import TfidfTransformer\r\n",
    "from sklearn.model_selection import train_test_split\r\n",
    "from sklearn.feature_extraction.text import TfidfVectorizer\r\n",
    "from sklearn.pipeline import Pipeline\r\n"
   ],
   "outputs": [],
   "metadata": {}
  },
  {
   "cell_type": "code",
   "execution_count": 2,
   "source": [
    "# df = pd.read_csv('../data/analyst_ratings_processed_final.csv')[['headline', 'stock', 'headline_cleaned']]\r\n",
    "df = pd.read_csv('../data/analyst_ratings_processed_final.csv')\r\n",
    "# df = df.sample(50000)\r\n"
   ],
   "outputs": [],
   "metadata": {}
  },
  {
   "cell_type": "code",
   "execution_count": 3,
   "source": [
    "def stockDevelopement(row):\r\n",
    "    stock_differenz = row['open'] - row['close']\r\n",
    "    # return 1 - row['close']/row['open']\r\n",
    "    if stock_differenz < 1:\r\n",
    "        return -1\r\n",
    "    elif stock_differenz > 1:\r\n",
    "        return 1\r\n",
    "    else: return 0"
   ],
   "outputs": [],
   "metadata": {}
  },
  {
   "cell_type": "code",
   "execution_count": 4,
   "source": [
    "df['stockPriceChange'] = df.apply(stockDevelopement, axis=1)"
   ],
   "outputs": [],
   "metadata": {}
  },
  {
   "cell_type": "code",
   "execution_count": 5,
   "source": [
    "df = df[['id','headline', 'stock', 'headline_cleaned','open','close', \"stockPriceChange\"]]\r\n",
    "df = df.rename(columns={'headline': '_headline', 'headline_cleaned':'_headline_cleaned', 'stock': '_stock', 'open': '_open', 'close':'_close', 'stockPrice_Change':'_stockPrice_Change'})"
   ],
   "outputs": [],
   "metadata": {}
  },
  {
   "cell_type": "code",
   "execution_count": 6,
   "source": [
    "def tokenz_in_sentence(hl):\r\n",
    "    word_list = hl[1:-1].split(\", \")\r\n",
    "    word_list = [word[1:-6] for word in word_list]\r\n",
    "    sentence = ' '.join(word_list)\r\n",
    "    return sentence"
   ],
   "outputs": [],
   "metadata": {}
  },
  {
   "cell_type": "code",
   "execution_count": 7,
   "source": [
    "df['_headline_sentence'] = df._headline_cleaned.apply(tokenz_in_sentence)"
   ],
   "outputs": [],
   "metadata": {}
  },
  {
   "cell_type": "code",
   "execution_count": 8,
   "source": [
    "df = df.set_index('id')"
   ],
   "outputs": [],
   "metadata": {}
  },
  {
   "cell_type": "code",
   "execution_count": 9,
   "source": [
    "# df['stockPriceChange'] = df['stockPriceChange'].apply(lambda value: value*100)\r\n",
    "# df['stockPriceChange'] = df['stockPriceChange'].astype(np.float16)\r\n",
    "# df['_open'] = df['_open'].astype(np.float16)\r\n",
    "# df['_close'] = df['_close'].astype(np.float16)"
   ],
   "outputs": [],
   "metadata": {}
  },
  {
   "cell_type": "code",
   "execution_count": 10,
   "source": [
    "df_set = df['_headline_sentence'].tolist()"
   ],
   "outputs": [],
   "metadata": {}
  },
  {
   "cell_type": "code",
   "execution_count": 11,
   "source": [
    "df.shape"
   ],
   "outputs": [
    {
     "output_type": "execute_result",
     "data": {
      "text/plain": [
       "(161478, 7)"
      ]
     },
     "metadata": {},
     "execution_count": 11
    }
   ],
   "metadata": {}
  },
  {
   "cell_type": "code",
   "execution_count": 14,
   "source": [
    "count_vectorizer = CountVectorizer(analyzer=\"word\", stop_words=\"english\")\r\n",
    "tfidf_vectorizer = TfidfVectorizer(analyzer='word', stop_words='english', smooth_idf=True, use_idf=True)\r\n",
    "\r\n",
    "count_wm = count_vectorizer.fit_transform(df_set)\r\n",
    "tfidf_wm = tfidf_vectorizer.fit_transform(df_set)\r\n",
    "\r\n",
    "# count_tokenz = count_vectorizer.get_feature_names()\r\n",
    "# tfidf_tokenz = tfidf_vectorizer.get_feature_names()\r\n",
    "\r\n",
    "# df_countvect = pd.DataFrame(data=count_wm.toarray(), index=df.index, columns=count_tokenz)\r\n",
    "# df_tfidfvect = pd.DataFrame(data= tfidf_wm.toarray(), index=df.index, columns=tfidf_tokenz)"
   ],
   "outputs": [],
   "metadata": {}
  },
  {
   "cell_type": "code",
   "execution_count": 53,
   "source": [
    "# export the Matrixes because of some Allocation error sometimes\r\n",
    "df_countvect.to_csv('../data/df_countvect.csv', index=False)\r\n",
    "df_tfidfvect.to_csv('../data/df_tfidfvect.csv', index=False)"
   ],
   "outputs": [],
   "metadata": {}
  },
  {
   "cell_type": "code",
   "execution_count": 13,
   "source": [
    "cols_to_delete = []\r\n",
    "for column in df_tfidfvect:\r\n",
    "    count = df_tfidfvect[df_tfidfvect[column] > 0].shape[0]\r\n",
    "    if count<600:\r\n",
    "        cols_to_delete.append(column)\r\n",
    "\r\n",
    "print(len(cols_to_delete))\r\n",
    "print(df_tfidfvect.shape[1])"
   ],
   "outputs": [
    {
     "output_type": "stream",
     "name": "stdout",
     "text": [
      "8638\n",
      "8931\n"
     ]
    }
   ],
   "metadata": {}
  },
  {
   "cell_type": "code",
   "execution_count": null,
   "source": [
    "df_tfidfvect.drop(axis=1, columns=cols_to_delete, inplace=True)"
   ],
   "outputs": [],
   "metadata": {}
  },
  {
   "cell_type": "code",
   "execution_count": 14,
   "source": [
    "mergred = pd.read_csv('../data/analyst_ratings_processed_final_tfidf_merged.csv')#df.merge(df_tfidfvect, on='id')"
   ],
   "outputs": [],
   "metadata": {}
  },
  {
   "cell_type": "code",
   "execution_count": 15,
   "source": [
    "pd.set_option('display.max_colwidth', None)\r\n",
    "\r\n",
    "mergred.head(2)"
   ],
   "outputs": [
    {
     "output_type": "execute_result",
     "data": {
      "text/plain": [
       "   id                                   _headline _stock  \\\n",
       "0   0     Stocks That Hit 52-Week Highs On Friday      A   \n",
       "1   1  Stocks That Hit 52-Week Highs On Wednesday      A   \n",
       "\n",
       "                                            _headline_cleaned  _open  _close  \\\n",
       "0     ['stocks.n.01', 'hit.v.01', 'high.n.01', 'friday.n.01']  92.13   90.38   \n",
       "1  ['stocks.n.01', 'hit.v.01', 'high.n.01', 'wednesday.n.01']  90.65   90.49   \n",
       "\n",
       "   _stockPrice_Change         _headline_sentence  aare  aaron  ...  yard  \\\n",
       "0                  -1     stocks hit high friday   0.0    0.0  ...   0.0   \n",
       "1                   0  stocks hit high wednesday   0.0    0.0  ...   0.0   \n",
       "\n",
       "   year  yesterday  yip  york  yuan  yuma  zebra  zion  zone  \n",
       "0   0.0        0.0  0.0   0.0   0.0   0.0    0.0   0.0   0.0  \n",
       "1   0.0        0.0  0.0   0.0   0.0   0.0    0.0   0.0   0.0  \n",
       "\n",
       "[2 rows x 2661 columns]"
      ],
      "text/html": [
       "<div>\n",
       "<style scoped>\n",
       "    .dataframe tbody tr th:only-of-type {\n",
       "        vertical-align: middle;\n",
       "    }\n",
       "\n",
       "    .dataframe tbody tr th {\n",
       "        vertical-align: top;\n",
       "    }\n",
       "\n",
       "    .dataframe thead th {\n",
       "        text-align: right;\n",
       "    }\n",
       "</style>\n",
       "<table border=\"1\" class=\"dataframe\">\n",
       "  <thead>\n",
       "    <tr style=\"text-align: right;\">\n",
       "      <th></th>\n",
       "      <th>id</th>\n",
       "      <th>_headline</th>\n",
       "      <th>_stock</th>\n",
       "      <th>_headline_cleaned</th>\n",
       "      <th>_open</th>\n",
       "      <th>_close</th>\n",
       "      <th>_stockPrice_Change</th>\n",
       "      <th>_headline_sentence</th>\n",
       "      <th>aare</th>\n",
       "      <th>aaron</th>\n",
       "      <th>...</th>\n",
       "      <th>yard</th>\n",
       "      <th>year</th>\n",
       "      <th>yesterday</th>\n",
       "      <th>yip</th>\n",
       "      <th>york</th>\n",
       "      <th>yuan</th>\n",
       "      <th>yuma</th>\n",
       "      <th>zebra</th>\n",
       "      <th>zion</th>\n",
       "      <th>zone</th>\n",
       "    </tr>\n",
       "  </thead>\n",
       "  <tbody>\n",
       "    <tr>\n",
       "      <th>0</th>\n",
       "      <td>0</td>\n",
       "      <td>Stocks That Hit 52-Week Highs On Friday</td>\n",
       "      <td>A</td>\n",
       "      <td>['stocks.n.01', 'hit.v.01', 'high.n.01', 'friday.n.01']</td>\n",
       "      <td>92.13</td>\n",
       "      <td>90.38</td>\n",
       "      <td>-1</td>\n",
       "      <td>stocks hit high friday</td>\n",
       "      <td>0.0</td>\n",
       "      <td>0.0</td>\n",
       "      <td>...</td>\n",
       "      <td>0.0</td>\n",
       "      <td>0.0</td>\n",
       "      <td>0.0</td>\n",
       "      <td>0.0</td>\n",
       "      <td>0.0</td>\n",
       "      <td>0.0</td>\n",
       "      <td>0.0</td>\n",
       "      <td>0.0</td>\n",
       "      <td>0.0</td>\n",
       "      <td>0.0</td>\n",
       "    </tr>\n",
       "    <tr>\n",
       "      <th>1</th>\n",
       "      <td>1</td>\n",
       "      <td>Stocks That Hit 52-Week Highs On Wednesday</td>\n",
       "      <td>A</td>\n",
       "      <td>['stocks.n.01', 'hit.v.01', 'high.n.01', 'wednesday.n.01']</td>\n",
       "      <td>90.65</td>\n",
       "      <td>90.49</td>\n",
       "      <td>0</td>\n",
       "      <td>stocks hit high wednesday</td>\n",
       "      <td>0.0</td>\n",
       "      <td>0.0</td>\n",
       "      <td>...</td>\n",
       "      <td>0.0</td>\n",
       "      <td>0.0</td>\n",
       "      <td>0.0</td>\n",
       "      <td>0.0</td>\n",
       "      <td>0.0</td>\n",
       "      <td>0.0</td>\n",
       "      <td>0.0</td>\n",
       "      <td>0.0</td>\n",
       "      <td>0.0</td>\n",
       "      <td>0.0</td>\n",
       "    </tr>\n",
       "  </tbody>\n",
       "</table>\n",
       "<p>2 rows × 2661 columns</p>\n",
       "</div>"
      ]
     },
     "metadata": {},
     "execution_count": 15
    }
   ],
   "metadata": {}
  },
  {
   "cell_type": "code",
   "execution_count": 18,
   "source": [
    "idf_value = tfidf_vectorizer.idf_[tfidf_vectorizer.vocabulary_['wednesday']]\r\n",
    "print(idf_value)"
   ],
   "outputs": [
    {
     "output_type": "stream",
     "name": "stdout",
     "text": [
      "4.117682415010359\n"
     ]
    }
   ],
   "metadata": {}
  },
  {
   "cell_type": "code",
   "execution_count": 17,
   "source": [
    "import numpy as np"
   ],
   "outputs": [],
   "metadata": {}
  },
  {
   "cell_type": "code",
   "execution_count": 18,
   "source": [
    "from sklearn.model_selection import RandomizedSearchCV\r\n",
    "\r\n",
    "# Number of trees in random forest\r\n",
    "n_estimators = [int(x) for x in np.linspace(start = 30, stop = 100, num = 10)]\r\n",
    "# Number of features to consider at every split\r\n",
    "max_features = ['auto', 'sqrt']\r\n",
    "# Maximum number of levels in tree\r\n",
    "max_depth = [int(x) for x in np.linspace(10, 50, num = 5)]\r\n",
    "max_depth.append(None)\r\n",
    "# Minimum number of samples required to split a node\r\n",
    "min_samples_split = [2, 3]\r\n",
    "# Minimum number of samples required at each leaf node\r\n",
    "min_samples_leaf = [1, 2]\r\n",
    "# Method of selecting samples for training each tree\r\n",
    "bootstrap = [True, False]\r\n",
    "# Create the random grid\r\n",
    "random_grid = {'n_estimators': n_estimators,\r\n",
    "               'max_features': max_features,\r\n",
    "               'max_depth': max_depth,\r\n",
    "               'min_samples_split': min_samples_split,\r\n",
    "               'min_samples_leaf': min_samples_leaf,\r\n",
    "               'bootstrap': bootstrap}\r\n",
    "print(random_grid)"
   ],
   "outputs": [
    {
     "output_type": "stream",
     "name": "stdout",
     "text": [
      "{'n_estimators': [30, 37, 45, 53, 61, 68, 76, 84, 92, 100], 'max_features': ['auto', 'sqrt'], 'max_depth': [10, 20, 30, 40, 50, None], 'min_samples_split': [2, 3], 'min_samples_leaf': [1, 2], 'bootstrap': [True, False]}\n"
     ]
    }
   ],
   "metadata": {}
  },
  {
   "cell_type": "code",
   "execution_count": 19,
   "source": [
    "from sklearn.ensemble import RandomForestRegressor\r\n"
   ],
   "outputs": [],
   "metadata": {}
  },
  {
   "cell_type": "code",
   "execution_count": null,
   "source": [
    "# rf = RandomForestRegressor()\r\n",
    "# rf_random = RandomizedSearchCV(estimator = rf, param_distributions = random_grid, n_iter = 20, cv = 3, verbose=2)"
   ],
   "outputs": [],
   "metadata": {}
  },
  {
   "cell_type": "code",
   "execution_count": 20,
   "source": [
    "mergred.head()"
   ],
   "outputs": [
    {
     "output_type": "execute_result",
     "data": {
      "text/plain": [
       "   id  \\\n",
       "0   0   \n",
       "1   1   \n",
       "2   2   \n",
       "3   3   \n",
       "4   4   \n",
       "\n",
       "                                                                                 _headline  \\\n",
       "0                                                  Stocks That Hit 52-Week Highs On Friday   \n",
       "1                                               Stocks That Hit 52-Week Highs On Wednesday   \n",
       "2                                                            71 Biggest Movers From Friday   \n",
       "3                                             46 Stocks Moving In Friday's Mid-Day Session   \n",
       "4  B of A Securities Maintains Neutral on Agilent Technologies, Raises Price Target to $88   \n",
       "\n",
       "  _stock  \\\n",
       "0      A   \n",
       "1      A   \n",
       "2      A   \n",
       "3      A   \n",
       "4      A   \n",
       "\n",
       "                                                                                          _headline_cleaned  \\\n",
       "0                                                   ['stocks.n.01', 'hit.v.01', 'high.n.01', 'friday.n.01']   \n",
       "1                                                ['stocks.n.01', 'hit.v.01', 'high.n.01', 'wednesday.n.01']   \n",
       "2                                                               ['large.a.01', 'mover.n.01', 'friday.n.01']   \n",
       "3                                             ['stocks.n.01', 'travel.v.01', 'friday.n.01', 'session.n.01']   \n",
       "4  ['security.n.01', 'neutral.n.01', 'technology.n.01', 'raise.n.01', 'monetary_value.n.01', 'target.n.01']   \n",
       "\n",
       "   _open  _close  _stockPrice_Change  \\\n",
       "0  92.13   90.38                  -1   \n",
       "1  90.65   90.49                   0   \n",
       "2  86.23   86.13                   0   \n",
       "3  85.00   84.98                   0   \n",
       "4  85.00   84.98                   0   \n",
       "\n",
       "                                        _headline_sentence  aare  aaron  ...  \\\n",
       "0                                   stocks hit high friday   0.0    0.0  ...   \n",
       "1                                stocks hit high wednesday   0.0    0.0  ...   \n",
       "2                                       large mover friday   0.0    0.0  ...   \n",
       "3                             stocks travel friday session   0.0    0.0  ...   \n",
       "4  security neutral technology raise monetary_value target   0.0    0.0  ...   \n",
       "\n",
       "   yard  year  yesterday  yip  york  yuan  yuma  zebra  zion  zone  \n",
       "0   0.0   0.0        0.0  0.0   0.0   0.0   0.0    0.0   0.0   0.0  \n",
       "1   0.0   0.0        0.0  0.0   0.0   0.0   0.0    0.0   0.0   0.0  \n",
       "2   0.0   0.0        0.0  0.0   0.0   0.0   0.0    0.0   0.0   0.0  \n",
       "3   0.0   0.0        0.0  0.0   0.0   0.0   0.0    0.0   0.0   0.0  \n",
       "4   0.0   0.0        0.0  0.0   0.0   0.0   0.0    0.0   0.0   0.0  \n",
       "\n",
       "[5 rows x 2661 columns]"
      ],
      "text/html": [
       "<div>\n",
       "<style scoped>\n",
       "    .dataframe tbody tr th:only-of-type {\n",
       "        vertical-align: middle;\n",
       "    }\n",
       "\n",
       "    .dataframe tbody tr th {\n",
       "        vertical-align: top;\n",
       "    }\n",
       "\n",
       "    .dataframe thead th {\n",
       "        text-align: right;\n",
       "    }\n",
       "</style>\n",
       "<table border=\"1\" class=\"dataframe\">\n",
       "  <thead>\n",
       "    <tr style=\"text-align: right;\">\n",
       "      <th></th>\n",
       "      <th>id</th>\n",
       "      <th>_headline</th>\n",
       "      <th>_stock</th>\n",
       "      <th>_headline_cleaned</th>\n",
       "      <th>_open</th>\n",
       "      <th>_close</th>\n",
       "      <th>_stockPrice_Change</th>\n",
       "      <th>_headline_sentence</th>\n",
       "      <th>aare</th>\n",
       "      <th>aaron</th>\n",
       "      <th>...</th>\n",
       "      <th>yard</th>\n",
       "      <th>year</th>\n",
       "      <th>yesterday</th>\n",
       "      <th>yip</th>\n",
       "      <th>york</th>\n",
       "      <th>yuan</th>\n",
       "      <th>yuma</th>\n",
       "      <th>zebra</th>\n",
       "      <th>zion</th>\n",
       "      <th>zone</th>\n",
       "    </tr>\n",
       "  </thead>\n",
       "  <tbody>\n",
       "    <tr>\n",
       "      <th>0</th>\n",
       "      <td>0</td>\n",
       "      <td>Stocks That Hit 52-Week Highs On Friday</td>\n",
       "      <td>A</td>\n",
       "      <td>['stocks.n.01', 'hit.v.01', 'high.n.01', 'friday.n.01']</td>\n",
       "      <td>92.13</td>\n",
       "      <td>90.38</td>\n",
       "      <td>-1</td>\n",
       "      <td>stocks hit high friday</td>\n",
       "      <td>0.0</td>\n",
       "      <td>0.0</td>\n",
       "      <td>...</td>\n",
       "      <td>0.0</td>\n",
       "      <td>0.0</td>\n",
       "      <td>0.0</td>\n",
       "      <td>0.0</td>\n",
       "      <td>0.0</td>\n",
       "      <td>0.0</td>\n",
       "      <td>0.0</td>\n",
       "      <td>0.0</td>\n",
       "      <td>0.0</td>\n",
       "      <td>0.0</td>\n",
       "    </tr>\n",
       "    <tr>\n",
       "      <th>1</th>\n",
       "      <td>1</td>\n",
       "      <td>Stocks That Hit 52-Week Highs On Wednesday</td>\n",
       "      <td>A</td>\n",
       "      <td>['stocks.n.01', 'hit.v.01', 'high.n.01', 'wednesday.n.01']</td>\n",
       "      <td>90.65</td>\n",
       "      <td>90.49</td>\n",
       "      <td>0</td>\n",
       "      <td>stocks hit high wednesday</td>\n",
       "      <td>0.0</td>\n",
       "      <td>0.0</td>\n",
       "      <td>...</td>\n",
       "      <td>0.0</td>\n",
       "      <td>0.0</td>\n",
       "      <td>0.0</td>\n",
       "      <td>0.0</td>\n",
       "      <td>0.0</td>\n",
       "      <td>0.0</td>\n",
       "      <td>0.0</td>\n",
       "      <td>0.0</td>\n",
       "      <td>0.0</td>\n",
       "      <td>0.0</td>\n",
       "    </tr>\n",
       "    <tr>\n",
       "      <th>2</th>\n",
       "      <td>2</td>\n",
       "      <td>71 Biggest Movers From Friday</td>\n",
       "      <td>A</td>\n",
       "      <td>['large.a.01', 'mover.n.01', 'friday.n.01']</td>\n",
       "      <td>86.23</td>\n",
       "      <td>86.13</td>\n",
       "      <td>0</td>\n",
       "      <td>large mover friday</td>\n",
       "      <td>0.0</td>\n",
       "      <td>0.0</td>\n",
       "      <td>...</td>\n",
       "      <td>0.0</td>\n",
       "      <td>0.0</td>\n",
       "      <td>0.0</td>\n",
       "      <td>0.0</td>\n",
       "      <td>0.0</td>\n",
       "      <td>0.0</td>\n",
       "      <td>0.0</td>\n",
       "      <td>0.0</td>\n",
       "      <td>0.0</td>\n",
       "      <td>0.0</td>\n",
       "    </tr>\n",
       "    <tr>\n",
       "      <th>3</th>\n",
       "      <td>3</td>\n",
       "      <td>46 Stocks Moving In Friday's Mid-Day Session</td>\n",
       "      <td>A</td>\n",
       "      <td>['stocks.n.01', 'travel.v.01', 'friday.n.01', 'session.n.01']</td>\n",
       "      <td>85.00</td>\n",
       "      <td>84.98</td>\n",
       "      <td>0</td>\n",
       "      <td>stocks travel friday session</td>\n",
       "      <td>0.0</td>\n",
       "      <td>0.0</td>\n",
       "      <td>...</td>\n",
       "      <td>0.0</td>\n",
       "      <td>0.0</td>\n",
       "      <td>0.0</td>\n",
       "      <td>0.0</td>\n",
       "      <td>0.0</td>\n",
       "      <td>0.0</td>\n",
       "      <td>0.0</td>\n",
       "      <td>0.0</td>\n",
       "      <td>0.0</td>\n",
       "      <td>0.0</td>\n",
       "    </tr>\n",
       "    <tr>\n",
       "      <th>4</th>\n",
       "      <td>4</td>\n",
       "      <td>B of A Securities Maintains Neutral on Agilent Technologies, Raises Price Target to $88</td>\n",
       "      <td>A</td>\n",
       "      <td>['security.n.01', 'neutral.n.01', 'technology.n.01', 'raise.n.01', 'monetary_value.n.01', 'target.n.01']</td>\n",
       "      <td>85.00</td>\n",
       "      <td>84.98</td>\n",
       "      <td>0</td>\n",
       "      <td>security neutral technology raise monetary_value target</td>\n",
       "      <td>0.0</td>\n",
       "      <td>0.0</td>\n",
       "      <td>...</td>\n",
       "      <td>0.0</td>\n",
       "      <td>0.0</td>\n",
       "      <td>0.0</td>\n",
       "      <td>0.0</td>\n",
       "      <td>0.0</td>\n",
       "      <td>0.0</td>\n",
       "      <td>0.0</td>\n",
       "      <td>0.0</td>\n",
       "      <td>0.0</td>\n",
       "      <td>0.0</td>\n",
       "    </tr>\n",
       "  </tbody>\n",
       "</table>\n",
       "<p>5 rows × 2661 columns</p>\n",
       "</div>"
      ]
     },
     "metadata": {},
     "execution_count": 20
    }
   ],
   "metadata": {}
  },
  {
   "cell_type": "code",
   "execution_count": 44,
   "source": [
    "X = mergred.drop(columns=['id','_headline', '_stock', '_headline_cleaned', '_open', '_close', '_stockPrice_Change', '_headline_sentence'])\r\n",
    "y= mergred['_stockPrice_Change']"
   ],
   "outputs": [],
   "metadata": {}
  },
  {
   "cell_type": "code",
   "execution_count": null,
   "source": [
    "# Fit the random search model\r\n",
    "# rf_random.fit(X, y)\r\n"
   ],
   "outputs": [],
   "metadata": {}
  },
  {
   "cell_type": "code",
   "execution_count": null,
   "source": [
    "# rf_random.best_params_"
   ],
   "outputs": [],
   "metadata": {}
  },
  {
   "cell_type": "code",
   "execution_count": null,
   "source": [
    "from sklearn.model_selection import train_test_split"
   ],
   "outputs": [],
   "metadata": {}
  },
  {
   "cell_type": "code",
   "execution_count": 45,
   "source": [
    "X_train, X_test, y_train, y_test = train_test_split(X, y , test_size=0.2, random_state=0)"
   ],
   "outputs": [],
   "metadata": {}
  },
  {
   "cell_type": "code",
   "execution_count": 46,
   "source": [
    "feature_words = list(X_train)\r\n",
    "dflist = pd.DataFrame(feature_words)\r\n",
    "print(dflist)\r\n",
    "dflist.to_csv('../data/tfidf_features.csv', index=False)"
   ],
   "outputs": [
    {
     "output_type": "stream",
     "name": "stdout",
     "text": [
      "                0\n",
      "0            aare\n",
      "1           aaron\n",
      "2         ability\n",
      "3            able\n",
      "4     abstraction\n",
      "...           ...\n",
      "2648         yuan\n",
      "2649         yuma\n",
      "2650        zebra\n",
      "2651         zion\n",
      "2652         zone\n",
      "\n",
      "[2653 rows x 1 columns]\n"
     ]
    }
   ],
   "metadata": {}
  },
  {
   "cell_type": "code",
   "execution_count": 47,
   "source": [
    "from sklearn.ensemble import RandomForestRegressor\r\n",
    "\r\n",
    "regressor = RandomForestRegressor( n_estimators=37, min_samples_split=2, min_samples_leaf=2, max_features='sqrt', max_depth=10, bootstrap=True)\r\n",
    "regressor.fit(X_train, y_train,)\r\n",
    "y_pred = regressor.predict(X_test)"
   ],
   "outputs": [],
   "metadata": {}
  },
  {
   "cell_type": "code",
   "execution_count": 48,
   "source": [
    "y_pred_bin = []\r\n",
    "for value in y_pred:\r\n",
    "    if value < 1:\r\n",
    "        y_pred_bin.append(-1)\r\n",
    "    elif value > 1:\r\n",
    "        y_pred_bin.append(1)\r\n",
    "    else: y_pred_bin.append(0)"
   ],
   "outputs": [],
   "metadata": {}
  },
  {
   "cell_type": "code",
   "execution_count": 49,
   "source": [
    "from sklearn import metrics\r\n",
    "import numpy as np\r\n",
    "\r\n",
    "print('Mean Absolute Error:', metrics.mean_absolute_error(y_test, y_pred_bin))\r\n",
    "print('Mean Squared Error:', metrics.mean_squared_error(y_test, y_pred_bin))\r\n",
    "print('Root Mean Squared Error:', np.sqrt(metrics.mean_squared_error(y_test, y_pred_bin)))"
   ],
   "outputs": [
    {
     "output_type": "stream",
     "name": "stdout",
     "text": [
      "Mean Absolute Error: 0.9746717859796878\n",
      "Mean Squared Error: 1.6483775080505325\n",
      "Root Mean Squared Error: 1.2838915483990587\n"
     ]
    }
   ],
   "metadata": {}
  },
  {
   "cell_type": "code",
   "execution_count": 50,
   "source": [
    "print('Accuracy Score:', metrics.accuracy_score(y_test, y_pred_bin))"
   ],
   "outputs": [
    {
     "output_type": "stream",
     "name": "stdout",
     "text": [
      "Accuracy Score: 0.36218107505573444\n"
     ]
    }
   ],
   "metadata": {}
  },
  {
   "cell_type": "code",
   "execution_count": 51,
   "source": [
    "pd.read_csv('../data/tfidf_features.csv')['0']"
   ],
   "outputs": [
    {
     "output_type": "execute_result",
     "data": {
      "text/plain": [
       "0              aare\n",
       "1             aaron\n",
       "2           ability\n",
       "3              able\n",
       "4       abstraction\n",
       "           ...     \n",
       "2648           yuan\n",
       "2649           yuma\n",
       "2650          zebra\n",
       "2651           zion\n",
       "2652           zone\n",
       "Name: 0, Length: 2653, dtype: object"
      ]
     },
     "metadata": {},
     "execution_count": 51
    }
   ],
   "metadata": {}
  },
  {
   "cell_type": "code",
   "execution_count": 54,
   "source": [
    "def predictHeadline(hl):\r\n",
    "\r\n",
    "    count_hl = len(list(hl.split()))\r\n",
    "    single_headline_tfidf = pd.DataFrame()\r\n",
    "    feature_list = list(pd.read_csv('../data/tfidf_features.csv')['0'])\r\n",
    "    for feature in feature_list:\r\n",
    "        idf_value = tfidf_vectorizer.idf_[tfidf_vectorizer.vocabulary_[feature]]\r\n",
    "        count_feature = hl.count(feature)\r\n",
    "        single_headline_tfidf[feature] = [(count_feature / count_hl) * idf_value]\r\n",
    "    print(regressor.predict(single_headline_tfidf))\r\n",
    "    \r\n",
    "predictHeadline(\"stock very high best apple low\")\r\n"
   ],
   "outputs": [
    {
     "output_type": "stream",
     "name": "stderr",
     "text": [
      "C:\\Users\\DOMINI~1\\AppData\\Local\\Temp/ipykernel_1004/3105935725.py:9: PerformanceWarning: DataFrame is highly fragmented.  This is usually the result of calling `frame.insert` many times, which has poor performance.  Consider using pd.concat instead.  To get a de-fragmented frame, use `newframe = frame.copy()`\n",
      "  single_headline_tfidf[feature] = [(count_feature / count_hl) * idf_value]\n"
     ]
    },
    {
     "output_type": "stream",
     "name": "stdout",
     "text": [
      "[-0.01779308]\n"
     ]
    }
   ],
   "metadata": {}
  },
  {
   "cell_type": "code",
   "execution_count": 55,
   "source": [
    "import joblib\r\n",
    "joblib.dump(regressor, './deployment/tfidf-model.pkl')"
   ],
   "outputs": [
    {
     "output_type": "execute_result",
     "data": {
      "text/plain": [
       "['./deployment/tfidf-model.pkl']"
      ]
     },
     "metadata": {},
     "execution_count": 55
    }
   ],
   "metadata": {}
  }
 ],
 "metadata": {
  "orig_nbformat": 4,
  "language_info": {
   "name": "python",
   "version": "3.9.5",
   "mimetype": "text/x-python",
   "codemirror_mode": {
    "name": "ipython",
    "version": 3
   },
   "pygments_lexer": "ipython3",
   "nbconvert_exporter": "python",
   "file_extension": ".py"
  },
  "kernelspec": {
   "name": "python3",
   "display_name": "Python 3.9.5 64-bit ('env_jupyter_39': venv)"
  },
  "interpreter": {
   "hash": "1a0e6cf9f72f60d0bfe12748a56e6fa4a0129244e5d5aa6d829e54ec8c41f88a"
  }
 },
 "nbformat": 4,
 "nbformat_minor": 2
}