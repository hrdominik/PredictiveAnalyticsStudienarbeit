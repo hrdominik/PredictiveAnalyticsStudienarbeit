{
 "cells": [
  {
   "cell_type": "markdown",
   "source": [
    "# Daily Financial News for 6000+ Stocks\r\n",
    "### Sentimentanalysis-Modelling of Headlines for Stocks and there prices\r\n",
    "@author DHR <br>"
   ],
   "metadata": {}
  },
  {
   "cell_type": "markdown",
   "source": [
    "## Requirements"
   ],
   "metadata": {}
  },
  {
   "cell_type": "code",
   "execution_count": 1,
   "source": [
    "#import basic DataScience Modules\r\n",
    "#!! for pip-modul-list to install @see requirements.txt\r\n",
    "import numpy as np\r\n",
    "import pandas as pd\r\n",
    "import matplotlib.pyplot as plt\r\n",
    "import os"
   ],
   "outputs": [],
   "metadata": {}
  },
  {
   "cell_type": "code",
   "execution_count": 29,
   "source": [
    "#import Linear Regression\r\n",
    "from sklearn.model_selection import train_test_split\r\n",
    "from sklearn.linear_model import LinearRegression\r\n",
    "from sklearn.metrics import mean_squared_error"
   ],
   "outputs": [],
   "metadata": {}
  },
  {
   "cell_type": "code",
   "execution_count": 3,
   "source": [
    "# import final DataSet for Modelling\r\n",
    "data = pd.read_csv('../data/analyst_ratings_processed_final.csv')"
   ],
   "outputs": [],
   "metadata": {}
  },
  {
   "cell_type": "markdown",
   "source": [
    "## Check relation between Stockprice increase and Sentiment"
   ],
   "metadata": {}
  },
  {
   "cell_type": "code",
   "execution_count": 5,
   "source": [
    "def checkCorrelation(row):\r\n",
    "    if ((row['stockPrice_Change'] != row[\"senti_Binary\"]) and (row['stockPrice_Change'] != 0) and (row[\"senti_Binary\"] !=0)):\r\n",
    "        return -1\r\n",
    "    if row['stockPrice_Change'] == row[\"senti_Binary\"]:\r\n",
    "        return 1\r\n",
    "    else: return 0"
   ],
   "outputs": [],
   "metadata": {}
  },
  {
   "cell_type": "code",
   "execution_count": 6,
   "source": [
    "data[\"correlation\"] = data.apply(checkCorrelation, axis=1)"
   ],
   "outputs": [],
   "metadata": {}
  },
  {
   "cell_type": "code",
   "execution_count": 7,
   "source": [
    "countRow_Pos = data[data[\"correlation\"] == 1].shape[0]\r\n",
    "countRow = data.shape[0]\r\n",
    "accuracy = countRow_Pos / countRow\r\n",
    "print(\"Von \" + str(countRow) + \" Headlines mit Sentiment-Score korrelieren \" + str(countRow_Pos) +\" positiv mit einem Aktienanstieg.\\nDas ergbit eine Accuracy von: \" + str(accuracy))"
   ],
   "outputs": [
    {
     "output_type": "stream",
     "name": "stdout",
     "text": [
      "Von 161478 Headlines mit Sentiment-Score korrelieren 61517 positiv mit einem Aktienanstieg.\n",
      "Das ergbit eine Accuracy von: 0.3809621124859114\n"
     ]
    }
   ],
   "metadata": {}
  },
  {
   "cell_type": "code",
   "execution_count": 8,
   "source": [
    "countRow_Neg = data[data[\"correlation\"] == -1].shape[0]\r\n",
    "countRow = data.shape[0]\r\n",
    "accuracy = countRow_Neg / countRow\r\n",
    "print(\"Von \" + str(countRow) + \" Headlines mit Sentiment-Score korrelieren \" + str(countRow_Neg) +\" negativ mit einem Aktienanstieg.\\nDas ergbit eine Accuracy von: \" + str(accuracy))"
   ],
   "outputs": [
    {
     "output_type": "stream",
     "name": "stdout",
     "text": [
      "Von 161478 Headlines mit Sentiment-Score korrelieren 3520 negativ mit einem Aktienanstieg.\n",
      "Das ergbit eine Accuracy von: 0.02179863510818811\n"
     ]
    }
   ],
   "metadata": {}
  },
  {
   "cell_type": "code",
   "execution_count": 10,
   "source": [
    "# remove the above columns from the DataFrame\r\n",
    "data = data.drop(columns=['correlation'])"
   ],
   "outputs": [],
   "metadata": {}
  },
  {
   "cell_type": "markdown",
   "source": [
    "## Linear Regression"
   ],
   "metadata": {}
  },
  {
   "cell_type": "code",
   "execution_count": 11,
   "source": [
    "# Split the DataFrame in Train and Test Data\r\n",
    "splitted_set = train_test_split(data, test_size=0.3)\r\n",
    "train_set = splitted_set[0]\r\n",
    "test_set = splitted_set[1]"
   ],
   "outputs": [],
   "metadata": {}
  },
  {
   "cell_type": "code",
   "execution_count": null,
   "source": [
    "# more var as X \r\n",
    "# train_set = train_set.assign(word_count = lambda dataframe: len(dataframe['headline_cleaned']))\r\n",
    "# train_set = train_set.assign(publish_count = lambda dataframe: data[data['stock'] == dataframe['stock']]['id'].count())"
   ],
   "outputs": [],
   "metadata": {}
  },
  {
   "cell_type": "code",
   "execution_count": 55,
   "source": [
    "X = train_set['senti_score'] # X = train_set[['senti_score', 'publish_count']].values.tolist()\r\n",
    "Y = train_set['stockPrice_Change']\r\n",
    "\r\n",
    "X = np.array(list(X)).reshape((-1, 1)) # then doesnt need this\r\n",
    "Y = np.array(list(Y))"
   ],
   "outputs": [],
   "metadata": {}
  },
  {
   "cell_type": "code",
   "execution_count": 13,
   "source": [
    "# Model\r\n",
    "model = LinearRegression()\r\n",
    "model.fit(X,Y)"
   ],
   "outputs": [
    {
     "output_type": "execute_result",
     "data": {
      "text/plain": [
       "LinearRegression()"
      ]
     },
     "metadata": {},
     "execution_count": 13
    }
   ],
   "metadata": {}
  },
  {
   "cell_type": "markdown",
   "source": [
    "### Test"
   ],
   "metadata": {}
  },
  {
   "cell_type": "code",
   "execution_count": 14,
   "source": [
    "# Test Prediction\r\n",
    "pred = [[2.375]] # must be 2D\r\n",
    "prediction = model.predict(pred)\r\n",
    "print('predicted response:', prediction, sep='\\n')"
   ],
   "outputs": [
    {
     "output_type": "stream",
     "name": "stdout",
     "text": [
      "predicted response:\n",
      "[0.01508774]\n"
     ]
    }
   ],
   "metadata": {}
  },
  {
   "cell_type": "code",
   "execution_count": 23,
   "source": [
    "# Prediction for the DataFrame\r\n",
    "test_set[\"prediction\"] = test_set.apply(lambda row: model.predict([[row['senti_score']]])[0], axis=1)"
   ],
   "outputs": [
    {
     "output_type": "stream",
     "name": "stderr",
     "text": [
      "<ipython-input-23-e813cf9a8932>:2: SettingWithCopyWarning: \n",
      "A value is trying to be set on a copy of a slice from a DataFrame.\n",
      "Try using .loc[row_indexer,col_indexer] = value instead\n",
      "\n",
      "See the caveats in the documentation: https://pandas.pydata.org/pandas-docs/stable/user_guide/indexing.html#returning-a-view-versus-a-copy\n",
      "  test_set[\"prediction\"] = test_set.apply(lambda row: model.predict([[row['senti_score']]])[0], axis=1)\n"
     ]
    }
   ],
   "metadata": {}
  },
  {
   "cell_type": "code",
   "execution_count": 22,
   "source": [
    "def standardization(pred):\r\n",
    "    pred = pred * 100\r\n",
    "    if pred < 0.5 and pred > -0.5: return 0\r\n",
    "    if pred >= 0.5: return 1\r\n",
    "    if pred <= 0.5: return -1\r\n",
    "    "
   ],
   "outputs": [],
   "metadata": {}
  },
  {
   "cell_type": "code",
   "execution_count": 24,
   "source": [
    "# Standardization\r\n",
    "test_set[\"prediction\"] = test_set[\"prediction\"].apply(standardization)"
   ],
   "outputs": [
    {
     "output_type": "stream",
     "name": "stderr",
     "text": [
      "<ipython-input-24-6643353d1f58>:2: SettingWithCopyWarning: \n",
      "A value is trying to be set on a copy of a slice from a DataFrame.\n",
      "Try using .loc[row_indexer,col_indexer] = value instead\n",
      "\n",
      "See the caveats in the documentation: https://pandas.pydata.org/pandas-docs/stable/user_guide/indexing.html#returning-a-view-versus-a-copy\n",
      "  test_set[\"prediction\"] = test_set[\"prediction\"].apply(standardization)\n"
     ]
    }
   ],
   "metadata": {}
  },
  {
   "cell_type": "markdown",
   "source": [
    "### Evaluation"
   ],
   "metadata": {}
  },
  {
   "cell_type": "code",
   "execution_count": 25,
   "source": [
    "print('intercept:', model.intercept_)\r\n",
    "print('slope:', model.coef_)"
   ],
   "outputs": [
    {
     "output_type": "stream",
     "name": "stdout",
     "text": [
      "intercept: -0.0024524959294019554\n",
      "slope: [0.00738536]\n"
     ]
    }
   ],
   "metadata": {}
  },
  {
   "cell_type": "code",
   "execution_count": 26,
   "source": [
    "# R2\r\n",
    "r_sq = model.score(X, Y)\r\n",
    "print('coefficient of determination:', r_sq)"
   ],
   "outputs": [
    {
     "output_type": "stream",
     "name": "stdout",
     "text": [
      "coefficient of determination: 0.00013072397450797357\n"
     ]
    }
   ],
   "metadata": {}
  },
  {
   "cell_type": "code",
   "execution_count": 28,
   "source": [
    "# Accuracy in test_set\r\n",
    "countRow_correct = test_set[test_set['prediction'] == test_set['stockPrice_Change']].shape[0]\r\n",
    "countRow = test_set.shape[0]\r\n",
    "accuracy = countRow_correct / countRow\r\n",
    "print('accuracy:', accuracy)"
   ],
   "outputs": [
    {
     "output_type": "stream",
     "name": "stdout",
     "text": [
      "accuracy: 0.779291553133515\n"
     ]
    }
   ],
   "metadata": {}
  },
  {
   "cell_type": "code",
   "execution_count": 36,
   "source": [
    "# RMSE in test_set\r\n",
    "rmse = mean_squared_error(list(test_set['stockPrice_Change']), list(test_set['prediction']), squared=False)\r\n",
    "print('rmse:', rmse)"
   ],
   "outputs": [
    {
     "output_type": "stream",
     "name": "stdout",
     "text": [
      "rmse: 0.4891059923840432\n"
     ]
    }
   ],
   "metadata": {}
  }
 ],
 "metadata": {
  "orig_nbformat": 4,
  "language_info": {
   "name": "python",
   "version": "3.9.0",
   "mimetype": "text/x-python",
   "codemirror_mode": {
    "name": "ipython",
    "version": 3
   },
   "pygments_lexer": "ipython3",
   "nbconvert_exporter": "python",
   "file_extension": ".py"
  },
  "kernelspec": {
   "name": "python3",
   "display_name": "Python 3.9.0 64-bit"
  },
  "interpreter": {
   "hash": "a8327ca969e67acfb174d2156b20dcab911c90ffc28adc105921770300801578"
  }
 },
 "nbformat": 4,
 "nbformat_minor": 2
}