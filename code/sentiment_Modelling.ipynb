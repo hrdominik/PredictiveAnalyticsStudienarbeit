{
 "cells": [
  {
   "cell_type": "markdown",
   "source": [
    "# Daily Financial News for 6000+ Stocks\r\n",
    "### Sentimentanalysis-Modelling of Headlines for Stocks and there prices\r\n",
    "@author DHR <br>"
   ],
   "metadata": {}
  },
  {
   "cell_type": "markdown",
   "source": [
    "## Requirements"
   ],
   "metadata": {}
  },
  {
   "cell_type": "code",
   "execution_count": 35,
   "source": [
    "#immport basic DataScience Modules\r\n",
    "#!! for pip-modul-list to install @see requirements.txt\r\n",
    "import numpy as np\r\n",
    "import pandas as pd\r\n",
    "import matplotlib.pyplot as plt\r\n",
    "import os"
   ],
   "outputs": [],
   "metadata": {}
  },
  {
   "cell_type": "code",
   "execution_count": 36,
   "source": [
    "# import final DataSet for Modelling\r\n",
    "data = pd.read_csv('../data/analyst_ratings_processed_final.csv')"
   ],
   "outputs": [],
   "metadata": {}
  },
  {
   "cell_type": "markdown",
   "source": [
    "## Sentiment and Stock Increase as Binary\r\n",
    "positive Sentiment = 1;\r\n",
    "neutral Sentiment = 0;\r\n",
    "negative Sentiment = -1\r\n",
    "\r\n",
    "Stock Price Increase by more than x = 1;\r\n",
    "Stock Price doesnt change more than x = 0;\r\n",
    "Stock Price Decrease by more than x = -1"
   ],
   "metadata": {}
  },
  {
   "cell_type": "code",
   "execution_count": 37,
   "source": [
    "def stockDevelopment(row):\r\n",
    "    # stock_differenz = row['open'] - row['close']\r\n",
    "    quotient = row['close']/row['open']\r\n",
    "    if quotient < 0.9:\r\n",
    "        return -1\r\n",
    "    elif quotient > 1.1:\r\n",
    "        return 1\r\n",
    "    else: return 0"
   ],
   "outputs": [],
   "metadata": {}
  },
  {
   "cell_type": "code",
   "execution_count": 38,
   "source": [
    "data[\"stockPrice_Change\"] = data.apply(stockDevelopment, axis=1)"
   ],
   "outputs": [],
   "metadata": {}
  },
  {
   "cell_type": "code",
   "execution_count": 39,
   "source": [
    "def getBinarySenti(row):\r\n",
    "    if row[\"senti_score\"] < 0:\r\n",
    "        return -1\r\n",
    "    elif row['senti_score'] > 0:\r\n",
    "        return 1\r\n",
    "    else: return 0"
   ],
   "outputs": [],
   "metadata": {}
  },
  {
   "cell_type": "code",
   "execution_count": 40,
   "source": [
    "data['senti_Binary'] = data.apply(getBinarySenti, axis=1)"
   ],
   "outputs": [],
   "metadata": {}
  },
  {
   "cell_type": "markdown",
   "source": [
    "### Check relation between Stockprice increase and Sentiment"
   ],
   "metadata": {}
  },
  {
   "cell_type": "code",
   "execution_count": 41,
   "source": [
    "def checkCorrelation_pos(row):\r\n",
    "    if row['stockPrice_Change'] == row[\"senti_Binary\"]:\r\n",
    "        return 1\r\n",
    "    else: return 0"
   ],
   "outputs": [],
   "metadata": {}
  },
  {
   "cell_type": "code",
   "execution_count": 42,
   "source": [
    "data[\"correlation_pos\"] = data.apply(checkCorrelation_pos, axis=1)"
   ],
   "outputs": [],
   "metadata": {}
  },
  {
   "cell_type": "code",
   "execution_count": 43,
   "source": [
    "def checkCorrelation_neg(row):\r\n",
    "    if ((row['stockPrice_Change'] != row[\"senti_Binary\"]) and (row['stockPrice_Change'] != 0) and (row[\"senti_Binary\"] !=0)):\r\n",
    "        return 1\r\n",
    "    else: return 0"
   ],
   "outputs": [],
   "metadata": {}
  },
  {
   "cell_type": "code",
   "execution_count": 44,
   "source": [
    "data[\"correlation_neg\"] = data.apply(checkCorrelation_neg, axis=1)"
   ],
   "outputs": [],
   "metadata": {}
  },
  {
   "cell_type": "code",
   "execution_count": 45,
   "source": [
    "numberRowsCorrect = data[data[\"correlation_pos\"] == 1].shape[0]\r\n",
    "numberRows = data.shape[0]\r\n",
    "accuracy = numberRowsCorrect / numberRows\r\n",
    "print(\"Von \" + str(numberRows) + \" Headlines mit Sentiment-Score korrelieren \" + str(numberRowsCorrect) +\" positiv mit einem Aktienanstieg.\\nDas ergbit eine Accuracy von: \" + str(accuracy))"
   ],
   "outputs": [
    {
     "output_type": "stream",
     "name": "stdout",
     "text": [
      "Von 161478 Headlines mit Sentiment-Score korrelieren 61517 positiv mit einem Aktienanstieg.\n",
      "Das ergbit eine Accuracy von: 0.3809621124859114\n"
     ]
    }
   ],
   "metadata": {}
  },
  {
   "cell_type": "code",
   "execution_count": 46,
   "source": [
    "numberRowsIncorrect = data[data[\"correlation_neg\"] == 1].shape[0]\r\n",
    "numberRows = data.shape[0]\r\n",
    "accuracy = numberRowsIncorrect / numberRows\r\n",
    "print(\"Von \" + str(numberRows) + \" Headlines mit Sentiment-Score korrelieren \" + str(numberRowsIncorrect) +\" negativ mit einem Aktienanstieg.\\nDas ergbit eine Accuracy von: \" + str(accuracy))"
   ],
   "outputs": [
    {
     "output_type": "stream",
     "name": "stdout",
     "text": [
      "Von 161478 Headlines mit Sentiment-Score korrelieren 3520 negativ mit einem Aktienanstieg.\n",
      "Das ergbit eine Accuracy von: 0.02179863510818811\n"
     ]
    }
   ],
   "metadata": {}
  }
 ],
 "metadata": {
  "orig_nbformat": 4,
  "language_info": {
   "name": "python",
   "version": "3.9.0",
   "mimetype": "text/x-python",
   "codemirror_mode": {
    "name": "ipython",
    "version": 3
   },
   "pygments_lexer": "ipython3",
   "nbconvert_exporter": "python",
   "file_extension": ".py"
  },
  "kernelspec": {
   "name": "python3",
   "display_name": "Python 3.9.0 64-bit"
  },
  "interpreter": {
   "hash": "a8327ca969e67acfb174d2156b20dcab911c90ffc28adc105921770300801578"
  }
 },
 "nbformat": 4,
 "nbformat_minor": 2
}