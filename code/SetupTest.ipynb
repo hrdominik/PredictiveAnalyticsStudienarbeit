{
 "cells": [
  {
   "cell_type": "markdown",
   "metadata": {},
   "source": [
    "# Enviroment Setup Test"
   ]
  },
  {
   "cell_type": "code",
   "execution_count": 1,
   "metadata": {},
   "outputs": [
    {
     "output_type": "stream",
     "name": "stdout",
     "text": [
      "Hello World\n"
     ]
    }
   ],
   "source": [
    "msg = \"Hello World\"\n",
    "print(msg)"
   ]
  },
  {
   "cell_type": "code",
   "execution_count": null,
   "metadata": {},
   "outputs": [],
   "source": []
  }
 ],
 "metadata": {
  "kernelspec": {
   "name": "python390jvsc74a57bd0fdbf8b76c07392482c0a9f35f86de3fa1db207ab2e980a9672da374438aa96f1",
   "display_name": "Python 3.9.0 64-bit"
  },
  "language_info": {
   "codemirror_mode": {
    "name": "ipython",
    "version": 3
   },
   "file_extension": ".py",
   "mimetype": "text/x-python",
   "name": "python",
   "nbconvert_exporter": "python",
   "pygments_lexer": "ipython3",
   "version": "3.9.0"
  },
  "metadata": {
   "interpreter": {
    "hash": "fdbf8b76c07392482c0a9f35f86de3fa1db207ab2e980a9672da374438aa96f1"
   }
  }
 },
 "nbformat": 4,
 "nbformat_minor": 2
}