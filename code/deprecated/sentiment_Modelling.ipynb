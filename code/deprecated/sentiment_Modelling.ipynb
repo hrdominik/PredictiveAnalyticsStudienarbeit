{
 "cells": [
  {
   "cell_type": "markdown",
   "source": [
    "# Daily Financial News for 6000+ Stocks\r\n",
    "### Sentimentanalysis-Modelling of Headlines for Stocks and there prices\r\n",
    "@author DHR <br>"
   ],
   "metadata": {}
  },
  {
   "cell_type": "markdown",
   "source": [
    "## Requirements"
   ],
   "metadata": {}
  },
  {
   "cell_type": "code",
   "execution_count": 1,
   "source": [
    "#import basic DataScience Modules\r\n",
    "#!! for pip-modul-list to install @see requirements.txt\r\n",
    "import numpy as np\r\n",
    "import pandas as pd\r\n",
    "import matplotlib.pyplot as plt\r\n",
    "import os\r\n",
    "import sys"
   ],
   "outputs": [],
   "metadata": {}
  },
  {
   "cell_type": "code",
   "execution_count": 2,
   "source": [
    "#import Linear Regression\r\n",
    "from sklearn.model_selection import train_test_split\r\n",
    "from sklearn.linear_model import LinearRegression\r\n",
    "from sklearn.metrics import mean_squared_error"
   ],
   "outputs": [],
   "metadata": {}
  },
  {
   "cell_type": "code",
   "execution_count": 3,
   "source": [
    "# import final DataSet for Modelling\r\n",
    "data = pd.read_csv('../data/analyst_ratings_processed_final.csv')"
   ],
   "outputs": [],
   "metadata": {}
  },
  {
   "cell_type": "markdown",
   "source": [
    "## Check relation between Stockprice increase and Sentiment"
   ],
   "metadata": {}
  },
  {
   "cell_type": "code",
   "execution_count": 4,
   "source": [
    "def checkCorrelation(row):\r\n",
    "    if ((row['stockPrice_Change'] != row[\"senti_Binary\"]) and (row['stockPrice_Change'] != 0) and (row[\"senti_Binary\"] !=0)):\r\n",
    "        return -1\r\n",
    "    if row['stockPrice_Change'] == row[\"senti_Binary\"]:\r\n",
    "        return 1\r\n",
    "    else: return 0"
   ],
   "outputs": [],
   "metadata": {}
  },
  {
   "cell_type": "code",
   "execution_count": 5,
   "source": [
    "data[\"correlation\"] = data.apply(checkCorrelation, axis=1)"
   ],
   "outputs": [],
   "metadata": {}
  },
  {
   "cell_type": "code",
   "execution_count": 6,
   "source": [
    "countRow_Pos = data[data[\"correlation\"] == 1].shape[0]\r\n",
    "countRow = data.shape[0]\r\n",
    "accuracy = countRow_Pos / countRow\r\n",
    "print(\"Von \" + str(countRow) + \" Headlines mit Sentiment-Score korrelieren \" + str(countRow_Pos) +\" positiv mit einem Aktienanstieg.\\nDas ergbit eine Accuracy von: \" + str(accuracy))"
   ],
   "outputs": [
    {
     "output_type": "stream",
     "name": "stdout",
     "text": [
      "Von 161478 Headlines mit Sentiment-Score korrelieren 61517 positiv mit einem Aktienanstieg.\n",
      "Das ergbit eine Accuracy von: 0.3809621124859114\n"
     ]
    }
   ],
   "metadata": {}
  },
  {
   "cell_type": "code",
   "execution_count": 7,
   "source": [
    "countRow_Neg = data[data[\"correlation\"] == -1].shape[0]\r\n",
    "countRow = data.shape[0]\r\n",
    "accuracy = countRow_Neg / countRow\r\n",
    "print(\"Von \" + str(countRow) + \" Headlines mit Sentiment-Score korrelieren \" + str(countRow_Neg) +\" negativ mit einem Aktienanstieg.\\nDas ergbit eine Accuracy von: \" + str(accuracy))"
   ],
   "outputs": [
    {
     "output_type": "stream",
     "name": "stdout",
     "text": [
      "Von 161478 Headlines mit Sentiment-Score korrelieren 3520 negativ mit einem Aktienanstieg.\n",
      "Das ergbit eine Accuracy von: 0.02179863510818811\n"
     ]
    }
   ],
   "metadata": {}
  },
  {
   "cell_type": "code",
   "execution_count": 8,
   "source": [
    "# remove the above columns from the DataFrame\r\n",
    "data = data.drop(columns=['correlation'])"
   ],
   "outputs": [],
   "metadata": {}
  },
  {
   "cell_type": "markdown",
   "source": [
    "## Linear Regression"
   ],
   "metadata": {}
  },
  {
   "cell_type": "code",
   "execution_count": 9,
   "source": [
    "# Split the DataFrame in Train and Test Data\r\n",
    "splitted_set = train_test_split(data, test_size=0.3)\r\n",
    "train_set = splitted_set[0]\r\n",
    "test_set = splitted_set[1]"
   ],
   "outputs": [],
   "metadata": {}
  },
  {
   "cell_type": "code",
   "execution_count": 10,
   "source": [
    "# Target\r\n",
    "Y = train_set['stockPrice_Change']\r\n",
    "Y = np.array(list(Y))"
   ],
   "outputs": [],
   "metadata": {}
  },
  {
   "cell_type": "code",
   "execution_count": 11,
   "source": [
    "# more var as X \r\n",
    "# train_set = train_set.assign(word_count = lambda dataframe: len(dataframe['headline_cleaned']))"
   ],
   "outputs": [],
   "metadata": {}
  },
  {
   "cell_type": "markdown",
   "source": [
    "#### simple Regression by senti_score"
   ],
   "metadata": {}
  },
  {
   "cell_type": "code",
   "execution_count": 12,
   "source": [
    "X_sentiScore = train_set['senti_score'] \r\n",
    "X_sentiScore = np.array(list(X_sentiScore)).reshape((-1, 1))"
   ],
   "outputs": [],
   "metadata": {}
  },
  {
   "cell_type": "code",
   "execution_count": 13,
   "source": [
    "# Model just with senti_score\r\n",
    "model_sentiScore = LinearRegression().fit(X_sentiScore,Y)"
   ],
   "outputs": [],
   "metadata": {}
  },
  {
   "cell_type": "markdown",
   "source": [
    "#### simple Regression by senti_pos_score and senti_neg_score"
   ],
   "metadata": {}
  },
  {
   "cell_type": "code",
   "execution_count": 14,
   "source": [
    "X_sentiPosNeg = train_set[['senti_pos_score', 'senti_neg_score']].values.tolist()"
   ],
   "outputs": [],
   "metadata": {}
  },
  {
   "cell_type": "code",
   "execution_count": 15,
   "source": [
    "# Model with pos and neg senti\r\n",
    "model_sentiPosNeg = LinearRegression().fit(X_sentiPosNeg,Y)"
   ],
   "outputs": [],
   "metadata": {}
  },
  {
   "cell_type": "markdown",
   "source": [
    "#### simple Regression by senti_pos_score and senti_neg_score and open"
   ],
   "metadata": {}
  },
  {
   "cell_type": "code",
   "execution_count": 18,
   "source": [
    "X_wOpen = train_set[['senti_pos_score', 'senti_neg_score', 'open']].values.tolist()"
   ],
   "outputs": [],
   "metadata": {}
  },
  {
   "cell_type": "code",
   "execution_count": 19,
   "source": [
    "# Model with pos and neg senti\r\n",
    "model_wOpen = LinearRegression().fit(X_wOpen,Y)"
   ],
   "outputs": [],
   "metadata": {}
  },
  {
   "cell_type": "markdown",
   "source": [
    "#### simple Regression by senti_pos_score and senti_neg_score and count of Publication"
   ],
   "metadata": {}
  },
  {
   "cell_type": "code",
   "execution_count": 32,
   "source": [
    "countTimer = 1\r\n",
    "def calPublishCount(row):\r\n",
    "    global countTimer\r\n",
    "    count = data[(data['stock'] == row['stock']) & (data['date'] == row['date'])]['id'].count()\r\n",
    "\r\n",
    "    #print Progress\r\n",
    "    progress = (countTimer/161478)*100\r\n",
    "    #sys.stdout.write(\"\\r[ %s ]%d%%\" % ('#'*(int(progress/1))+'-'*(100-int(progress/1)), progress))\r\n",
    "    sys.stdout.write(\"\\r[ %s ]%d%% ::: %d out of %d, id: %d: %d\" % ('#'*(int(progress/1))+'-'*(100-int(progress/1)), progress, countTimer, 161478, row['id'], count))\r\n",
    "    sys.stdout.flush()\r\n",
    "    countTimer += 1\r\n",
    "\r\n",
    "    return count"
   ],
   "outputs": [],
   "metadata": {}
  },
  {
   "cell_type": "code",
   "execution_count": null,
   "source": [
    "data['publish_count'] = data.apply(calPublishCount, axis=1)\r\n",
    "# repeat the test_train_split"
   ],
   "outputs": [],
   "metadata": {}
  },
  {
   "cell_type": "code",
   "execution_count": 7,
   "source": [
    "data = pd.read_csv('../data/analyst_ratings_processed_final_count.csv')"
   ],
   "outputs": [],
   "metadata": {}
  },
  {
   "cell_type": "code",
   "execution_count": 16,
   "source": [
    "X_wPublishCount = train_set[['senti_pos_score', 'senti_neg_score', 'publish_count']].values.tolist()"
   ],
   "outputs": [],
   "metadata": {}
  },
  {
   "cell_type": "code",
   "execution_count": 17,
   "source": [
    "# Model with pos and neg senti\r\n",
    "model_wPublishCount = LinearRegression().fit(X_wPublishCount,Y)"
   ],
   "outputs": [],
   "metadata": {}
  },
  {
   "cell_type": "markdown",
   "source": [
    "### Predict on test_set"
   ],
   "metadata": {}
  },
  {
   "cell_type": "code",
   "execution_count": null,
   "source": [
    "# # Make one Test Prediction\r\n",
    "# pred = [[2.375, 0]] # must be 2D\r\n",
    "# prediction = model.predict(pred)\r\n",
    "# print('predicted response:', prediction, sep='\\n')"
   ],
   "outputs": [],
   "metadata": {}
  },
  {
   "cell_type": "code",
   "execution_count": 18,
   "source": [
    "# Prediction for the DataFrame\r\n",
    "test_set[\"prediction_sentiScore\"] = test_set.apply(lambda row: model_sentiScore.predict([[row['senti_score']]])[0], axis=1)"
   ],
   "outputs": [
    {
     "output_type": "stream",
     "name": "stderr",
     "text": [
      "C:\\Users\\DOMINI~1\\AppData\\Local\\Temp/ipykernel_6580/2035633860.py:2: SettingWithCopyWarning: \n",
      "A value is trying to be set on a copy of a slice from a DataFrame.\n",
      "Try using .loc[row_indexer,col_indexer] = value instead\n",
      "\n",
      "See the caveats in the documentation: https://pandas.pydata.org/pandas-docs/stable/user_guide/indexing.html#returning-a-view-versus-a-copy\n",
      "  test_set[\"prediction_sentiScore\"] = test_set.apply(lambda row: model_sentiScore.predict([[row['senti_score']]])[0], axis=1)\n"
     ]
    }
   ],
   "metadata": {}
  },
  {
   "cell_type": "code",
   "execution_count": 19,
   "source": [
    "test_set[\"prediction_sentiPosNeg\"] = test_set.apply(lambda row: model_sentiPosNeg.predict([row[['senti_pos_score', 'senti_neg_score']].values.tolist()])[0], axis=1)"
   ],
   "outputs": [
    {
     "output_type": "stream",
     "name": "stderr",
     "text": [
      "C:\\Users\\DOMINI~1\\AppData\\Local\\Temp/ipykernel_6580/4096235312.py:1: SettingWithCopyWarning: \n",
      "A value is trying to be set on a copy of a slice from a DataFrame.\n",
      "Try using .loc[row_indexer,col_indexer] = value instead\n",
      "\n",
      "See the caveats in the documentation: https://pandas.pydata.org/pandas-docs/stable/user_guide/indexing.html#returning-a-view-versus-a-copy\n",
      "  test_set[\"prediction_sentiPosNeg\"] = test_set.apply(lambda row: model_sentiPosNeg.predict([row[['senti_pos_score', 'senti_neg_score']].values.tolist()])[0], axis=1)\n"
     ]
    }
   ],
   "metadata": {}
  },
  {
   "cell_type": "code",
   "execution_count": 20,
   "source": [
    "test_set[\"prediction_wOpen\"] = test_set.apply(lambda row: model_wOpen.predict([row[['senti_pos_score', 'senti_neg_score', 'open']].values.tolist()])[0], axis=1)"
   ],
   "outputs": [
    {
     "output_type": "stream",
     "name": "stderr",
     "text": [
      "C:\\Users\\DOMINI~1\\AppData\\Local\\Temp/ipykernel_6580/363586911.py:1: SettingWithCopyWarning: \n",
      "A value is trying to be set on a copy of a slice from a DataFrame.\n",
      "Try using .loc[row_indexer,col_indexer] = value instead\n",
      "\n",
      "See the caveats in the documentation: https://pandas.pydata.org/pandas-docs/stable/user_guide/indexing.html#returning-a-view-versus-a-copy\n",
      "  test_set[\"prediction_wOpen\"] = test_set.apply(lambda row: model_wOpen.predict([row[['senti_pos_score', 'senti_neg_score', 'open']].values.tolist()])[0], axis=1)\n"
     ]
    }
   ],
   "metadata": {}
  },
  {
   "cell_type": "code",
   "execution_count": 21,
   "source": [
    "test_set[\"prediction_wPublishCount\"] = test_set.apply(lambda row: model_wPublishCount.predict([row[['senti_pos_score', 'senti_neg_score', 'publish_count']].values.tolist()])[0], axis=1)"
   ],
   "outputs": [
    {
     "output_type": "stream",
     "name": "stderr",
     "text": [
      "C:\\Users\\DOMINI~1\\AppData\\Local\\Temp/ipykernel_6580/1156047874.py:1: SettingWithCopyWarning: \n",
      "A value is trying to be set on a copy of a slice from a DataFrame.\n",
      "Try using .loc[row_indexer,col_indexer] = value instead\n",
      "\n",
      "See the caveats in the documentation: https://pandas.pydata.org/pandas-docs/stable/user_guide/indexing.html#returning-a-view-versus-a-copy\n",
      "  test_set[\"prediction_wPublishCount\"] = test_set.apply(lambda row: model_wPublishCount.predict([row[['senti_pos_score', 'senti_neg_score', 'publish_count']].values.tolist()])[0], axis=1)\n"
     ]
    }
   ],
   "metadata": {}
  },
  {
   "cell_type": "code",
   "execution_count": 22,
   "source": [
    "def standardization(pred):\r\n",
    "    pred = pred * 10\r\n",
    "    if pred <= 0.5 and pred >= -0.5: return 0\r\n",
    "    if pred > 0.5: return 1\r\n",
    "    if pred < 0.5: return -1"
   ],
   "outputs": [],
   "metadata": {}
  },
  {
   "cell_type": "code",
   "execution_count": 23,
   "source": [
    "# Standardization\r\n",
    "test_set[\"prediction_sentiScore\"] = test_set[\"prediction_sentiScore\"].apply(standardization)\r\n",
    "test_set[\"prediction_sentiPosNeg\"] = test_set[\"prediction_sentiPosNeg\"].apply(standardization)\r\n",
    "test_set[\"prediction_wOpen\"] = test_set[\"prediction_wOpen\"].apply(standardization)\r\n",
    "test_set[\"prediction_wPublishCount\"] = test_set[\"prediction_wPublishCount\"].apply(standardization)"
   ],
   "outputs": [
    {
     "output_type": "stream",
     "name": "stderr",
     "text": [
      "C:\\Users\\DOMINI~1\\AppData\\Local\\Temp/ipykernel_6580/3409748880.py:2: SettingWithCopyWarning: \n",
      "A value is trying to be set on a copy of a slice from a DataFrame.\n",
      "Try using .loc[row_indexer,col_indexer] = value instead\n",
      "\n",
      "See the caveats in the documentation: https://pandas.pydata.org/pandas-docs/stable/user_guide/indexing.html#returning-a-view-versus-a-copy\n",
      "  test_set[\"prediction_sentiScore\"] = test_set[\"prediction_sentiScore\"].apply(standardization)\n",
      "C:\\Users\\DOMINI~1\\AppData\\Local\\Temp/ipykernel_6580/3409748880.py:3: SettingWithCopyWarning: \n",
      "A value is trying to be set on a copy of a slice from a DataFrame.\n",
      "Try using .loc[row_indexer,col_indexer] = value instead\n",
      "\n",
      "See the caveats in the documentation: https://pandas.pydata.org/pandas-docs/stable/user_guide/indexing.html#returning-a-view-versus-a-copy\n",
      "  test_set[\"prediction_sentiPosNeg\"] = test_set[\"prediction_sentiPosNeg\"].apply(standardization)\n",
      "C:\\Users\\DOMINI~1\\AppData\\Local\\Temp/ipykernel_6580/3409748880.py:4: SettingWithCopyWarning: \n",
      "A value is trying to be set on a copy of a slice from a DataFrame.\n",
      "Try using .loc[row_indexer,col_indexer] = value instead\n",
      "\n",
      "See the caveats in the documentation: https://pandas.pydata.org/pandas-docs/stable/user_guide/indexing.html#returning-a-view-versus-a-copy\n",
      "  test_set[\"prediction_wOpen\"] = test_set[\"prediction_wOpen\"].apply(standardization)\n",
      "C:\\Users\\DOMINI~1\\AppData\\Local\\Temp/ipykernel_6580/3409748880.py:5: SettingWithCopyWarning: \n",
      "A value is trying to be set on a copy of a slice from a DataFrame.\n",
      "Try using .loc[row_indexer,col_indexer] = value instead\n",
      "\n",
      "See the caveats in the documentation: https://pandas.pydata.org/pandas-docs/stable/user_guide/indexing.html#returning-a-view-versus-a-copy\n",
      "  test_set[\"prediction_wPublishCount\"] = test_set[\"prediction_wPublishCount\"].apply(standardization)\n"
     ]
    }
   ],
   "metadata": {}
  },
  {
   "cell_type": "markdown",
   "source": [
    "### Evaluation"
   ],
   "metadata": {}
  },
  {
   "cell_type": "code",
   "execution_count": 25,
   "source": [
    "ModelEvaluationRow = ['senti_score', 'senti_pos_score, senti_neg_score', 'with open', 'with PublishCount']\r\n",
    "ModelEvaluationCol = ['intercept', 'slope', 'coefficient / R^2', 'accuracy', 'rmse']\r\n",
    "\r\n",
    "ModelEvaluation_sentiScore = [model_sentiScore.intercept_, model_sentiScore.coef_, model_sentiScore.score(X_sentiScore, Y), test_set[test_set['prediction_sentiScore'] == test_set['stockPrice_Change']].shape[0]/test_set.shape[0], mean_squared_error(list(test_set['stockPrice_Change']), list(test_set['prediction_sentiScore']), squared=False)]\r\n",
    "ModelEvaluation_sentiPosNeg = [model_sentiPosNeg.intercept_, model_sentiPosNeg.coef_, model_sentiPosNeg.score(X_sentiPosNeg, Y), test_set[test_set['prediction_sentiPosNeg'] == test_set['stockPrice_Change']].shape[0]/test_set.shape[0], mean_squared_error(list(test_set['stockPrice_Change']), list(test_set['prediction_sentiPosNeg']), squared=False)]\r\n",
    "\r\n",
    "ModelEvaluation_wOpen = [model_wOpen.intercept_, model_wOpen.coef_, model_wOpen.score(X_wOpen, Y), test_set[test_set['prediction_wOpen'] == test_set['stockPrice_Change']].shape[0]/test_set.shape[0], mean_squared_error(list(test_set['stockPrice_Change']), list(test_set['prediction_wOpen']), squared=False)]\r\n",
    "ModelEvaluation_wPublishCount = [model_wPublishCount.intercept_, model_wPublishCount.coef_, model_wPublishCount.score(X_wPublishCount, Y), test_set[test_set['prediction_wPublishCount'] == test_set['stockPrice_Change']].shape[0]/test_set.shape[0], mean_squared_error(list(test_set['stockPrice_Change']), list(test_set['prediction_wPublishCount']), squared=False)]\r\n",
    "\r\n",
    "ModelEvaluation = [ModelEvaluation_sentiScore, ModelEvaluation_sentiPosNeg, ModelEvaluation_wOpen, ModelEvaluation_wPublishCount]"
   ],
   "outputs": [],
   "metadata": {}
  },
  {
   "cell_type": "code",
   "execution_count": 26,
   "source": [
    "fig, ax = plt.subplots()\r\n",
    "\r\n",
    "# Hide axes\r\n",
    "fig.patch.set_visible(False)\r\n",
    "ax.axis('off')\r\n",
    "\r\n",
    "table = ax.table(ModelEvaluation, colLabels=ModelEvaluationCol, rowLabels=ModelEvaluationRow, loc='center')\r\n",
    "table.set_fontsize(16)\r\n",
    "# table.scale(1,1.5)\r\n",
    "\r\n",
    "plt.show()"
   ],
   "outputs": [
    {
     "output_type": "stream",
     "name": "stderr",
     "text": [
      "D:\\Domink\\Wokspaces\\UPB\\PredictiveAnalyticsStudienarbeit\\env_jupyter_39\\lib\\site-packages\\matplotlib\\text.py:1215: FutureWarning: elementwise comparison failed; returning scalar instead, but in the future will perform elementwise comparison\n",
      "  if s != self._text:\n"
     ]
    },
    {
     "output_type": "display_data",
     "data": {
      "text/plain": [
       "<Figure size 432x288 with 1 Axes>"
      ],
      "image/svg+xml": "<?xml version=\"1.0\" encoding=\"utf-8\" standalone=\"no\"?>\r\n<!DOCTYPE svg PUBLIC \"-//W3C//DTD SVG 1.1//EN\"\r\n  \"http://www.w3.org/Graphics/SVG/1.1/DTD/svg11.dtd\">\r\n<svg height=\"231.84pt\" version=\"1.1\" viewBox=\"0 0 388.896 231.84\" width=\"388.896pt\" xmlns=\"http://www.w3.org/2000/svg\" xmlns:xlink=\"http://www.w3.org/1999/xlink\">\r\n <metadata>\r\n  <rdf:RDF xmlns:cc=\"http://creativecommons.org/ns#\" xmlns:dc=\"http://purl.org/dc/elements/1.1/\" xmlns:rdf=\"http://www.w3.org/1999/02/22-rdf-syntax-ns#\">\r\n   <cc:Work>\r\n    <dc:type rdf:resource=\"http://purl.org/dc/dcmitype/StillImage\"/>\r\n    <dc:date>2021-08-16T18:52:56.860636</dc:date>\r\n    <dc:format>image/svg+xml</dc:format>\r\n    <dc:creator>\r\n     <cc:Agent>\r\n      <dc:title>Matplotlib v3.4.2, https://matplotlib.org/</dc:title>\r\n     </cc:Agent>\r\n    </dc:creator>\r\n   </cc:Work>\r\n  </rdf:RDF>\r\n </metadata>\r\n <defs>\r\n  <style type=\"text/css\">*{stroke-linecap:butt;stroke-linejoin:round;}</style>\r\n </defs>\r\n <g id=\"figure_1\">\r\n  <g id=\"axes_1\">\r\n   <g id=\"table_1\">\r\n    <g id=\"patch_1\">\r\n     <path d=\"M 46.896 97.92 \r\nL 113.856 97.92 \r\nL 113.856 85.92 \r\nL 46.896 85.92 \r\nz\r\n\" style=\"fill:#ffffff;stroke:#000000;stroke-linejoin:miter;\"/>\r\n    </g>\r\n    <g id=\"text_1\">\r\n     <!-- intercept -->\r\n     <g transform=\"translate(75.876469 92.471875)scale(0.02 -0.02)\">\r\n      <defs>\r\n       <path d=\"M 603 3500 \r\nL 1178 3500 \r\nL 1178 0 \r\nL 603 0 \r\nL 603 3500 \r\nz\r\nM 603 4863 \r\nL 1178 4863 \r\nL 1178 4134 \r\nL 603 4134 \r\nL 603 4863 \r\nz\r\n\" id=\"DejaVuSans-69\" transform=\"scale(0.015625)\"/>\r\n       <path d=\"M 3513 2113 \r\nL 3513 0 \r\nL 2938 0 \r\nL 2938 2094 \r\nQ 2938 2591 2744 2837 \r\nQ 2550 3084 2163 3084 \r\nQ 1697 3084 1428 2787 \r\nQ 1159 2491 1159 1978 \r\nL 1159 0 \r\nL 581 0 \r\nL 581 3500 \r\nL 1159 3500 \r\nL 1159 2956 \r\nQ 1366 3272 1645 3428 \r\nQ 1925 3584 2291 3584 \r\nQ 2894 3584 3203 3211 \r\nQ 3513 2838 3513 2113 \r\nz\r\n\" id=\"DejaVuSans-6e\" transform=\"scale(0.015625)\"/>\r\n       <path d=\"M 1172 4494 \r\nL 1172 3500 \r\nL 2356 3500 \r\nL 2356 3053 \r\nL 1172 3053 \r\nL 1172 1153 \r\nQ 1172 725 1289 603 \r\nQ 1406 481 1766 481 \r\nL 2356 481 \r\nL 2356 0 \r\nL 1766 0 \r\nQ 1100 0 847 248 \r\nQ 594 497 594 1153 \r\nL 594 3053 \r\nL 172 3053 \r\nL 172 3500 \r\nL 594 3500 \r\nL 594 4494 \r\nL 1172 4494 \r\nz\r\n\" id=\"DejaVuSans-74\" transform=\"scale(0.015625)\"/>\r\n       <path d=\"M 3597 1894 \r\nL 3597 1613 \r\nL 953 1613 \r\nQ 991 1019 1311 708 \r\nQ 1631 397 2203 397 \r\nQ 2534 397 2845 478 \r\nQ 3156 559 3463 722 \r\nL 3463 178 \r\nQ 3153 47 2828 -22 \r\nQ 2503 -91 2169 -91 \r\nQ 1331 -91 842 396 \r\nQ 353 884 353 1716 \r\nQ 353 2575 817 3079 \r\nQ 1281 3584 2069 3584 \r\nQ 2775 3584 3186 3129 \r\nQ 3597 2675 3597 1894 \r\nz\r\nM 3022 2063 \r\nQ 3016 2534 2758 2815 \r\nQ 2500 3097 2075 3097 \r\nQ 1594 3097 1305 2825 \r\nQ 1016 2553 972 2059 \r\nL 3022 2063 \r\nz\r\n\" id=\"DejaVuSans-65\" transform=\"scale(0.015625)\"/>\r\n       <path d=\"M 2631 2963 \r\nQ 2534 3019 2420 3045 \r\nQ 2306 3072 2169 3072 \r\nQ 1681 3072 1420 2755 \r\nQ 1159 2438 1159 1844 \r\nL 1159 0 \r\nL 581 0 \r\nL 581 3500 \r\nL 1159 3500 \r\nL 1159 2956 \r\nQ 1341 3275 1631 3429 \r\nQ 1922 3584 2338 3584 \r\nQ 2397 3584 2469 3576 \r\nQ 2541 3569 2628 3553 \r\nL 2631 2963 \r\nz\r\n\" id=\"DejaVuSans-72\" transform=\"scale(0.015625)\"/>\r\n       <path d=\"M 3122 3366 \r\nL 3122 2828 \r\nQ 2878 2963 2633 3030 \r\nQ 2388 3097 2138 3097 \r\nQ 1578 3097 1268 2742 \r\nQ 959 2388 959 1747 \r\nQ 959 1106 1268 751 \r\nQ 1578 397 2138 397 \r\nQ 2388 397 2633 464 \r\nQ 2878 531 3122 666 \r\nL 3122 134 \r\nQ 2881 22 2623 -34 \r\nQ 2366 -91 2075 -91 \r\nQ 1284 -91 818 406 \r\nQ 353 903 353 1747 \r\nQ 353 2603 823 3093 \r\nQ 1294 3584 2113 3584 \r\nQ 2378 3584 2631 3529 \r\nQ 2884 3475 3122 3366 \r\nz\r\n\" id=\"DejaVuSans-63\" transform=\"scale(0.015625)\"/>\r\n       <path d=\"M 1159 525 \r\nL 1159 -1331 \r\nL 581 -1331 \r\nL 581 3500 \r\nL 1159 3500 \r\nL 1159 2969 \r\nQ 1341 3281 1617 3432 \r\nQ 1894 3584 2278 3584 \r\nQ 2916 3584 3314 3078 \r\nQ 3713 2572 3713 1747 \r\nQ 3713 922 3314 415 \r\nQ 2916 -91 2278 -91 \r\nQ 1894 -91 1617 61 \r\nQ 1341 213 1159 525 \r\nz\r\nM 3116 1747 \r\nQ 3116 2381 2855 2742 \r\nQ 2594 3103 2138 3103 \r\nQ 1681 3103 1420 2742 \r\nQ 1159 2381 1159 1747 \r\nQ 1159 1113 1420 752 \r\nQ 1681 391 2138 391 \r\nQ 2594 391 2855 752 \r\nQ 3116 1113 3116 1747 \r\nz\r\n\" id=\"DejaVuSans-70\" transform=\"scale(0.015625)\"/>\r\n      </defs>\r\n      <use xlink:href=\"#DejaVuSans-69\"/>\r\n      <use x=\"27.783203\" xlink:href=\"#DejaVuSans-6e\"/>\r\n      <use x=\"91.162109\" xlink:href=\"#DejaVuSans-74\"/>\r\n      <use x=\"130.371094\" xlink:href=\"#DejaVuSans-65\"/>\r\n      <use x=\"191.894531\" xlink:href=\"#DejaVuSans-72\"/>\r\n      <use x=\"230.757812\" xlink:href=\"#DejaVuSans-63\"/>\r\n      <use x=\"285.738281\" xlink:href=\"#DejaVuSans-65\"/>\r\n      <use x=\"347.261719\" xlink:href=\"#DejaVuSans-70\"/>\r\n      <use x=\"410.738281\" xlink:href=\"#DejaVuSans-74\"/>\r\n     </g>\r\n    </g>\r\n    <g id=\"patch_2\">\r\n     <path d=\"M 113.856 97.92 \r\nL 180.816 97.92 \r\nL 180.816 85.92 \r\nL 113.856 85.92 \r\nz\r\n\" style=\"fill:#ffffff;stroke:#000000;stroke-linejoin:miter;\"/>\r\n    </g>\r\n    <g id=\"text_2\">\r\n     <!-- slope -->\r\n     <g transform=\"translate(144.675219 92.471875)scale(0.02 -0.02)\">\r\n      <defs>\r\n       <path d=\"M 2834 3397 \r\nL 2834 2853 \r\nQ 2591 2978 2328 3040 \r\nQ 2066 3103 1784 3103 \r\nQ 1356 3103 1142 2972 \r\nQ 928 2841 928 2578 \r\nQ 928 2378 1081 2264 \r\nQ 1234 2150 1697 2047 \r\nL 1894 2003 \r\nQ 2506 1872 2764 1633 \r\nQ 3022 1394 3022 966 \r\nQ 3022 478 2636 193 \r\nQ 2250 -91 1575 -91 \r\nQ 1294 -91 989 -36 \r\nQ 684 19 347 128 \r\nL 347 722 \r\nQ 666 556 975 473 \r\nQ 1284 391 1588 391 \r\nQ 1994 391 2212 530 \r\nQ 2431 669 2431 922 \r\nQ 2431 1156 2273 1281 \r\nQ 2116 1406 1581 1522 \r\nL 1381 1569 \r\nQ 847 1681 609 1914 \r\nQ 372 2147 372 2553 \r\nQ 372 3047 722 3315 \r\nQ 1072 3584 1716 3584 \r\nQ 2034 3584 2315 3537 \r\nQ 2597 3491 2834 3397 \r\nz\r\n\" id=\"DejaVuSans-73\" transform=\"scale(0.015625)\"/>\r\n       <path d=\"M 603 4863 \r\nL 1178 4863 \r\nL 1178 0 \r\nL 603 0 \r\nL 603 4863 \r\nz\r\n\" id=\"DejaVuSans-6c\" transform=\"scale(0.015625)\"/>\r\n       <path d=\"M 1959 3097 \r\nQ 1497 3097 1228 2736 \r\nQ 959 2375 959 1747 \r\nQ 959 1119 1226 758 \r\nQ 1494 397 1959 397 \r\nQ 2419 397 2687 759 \r\nQ 2956 1122 2956 1747 \r\nQ 2956 2369 2687 2733 \r\nQ 2419 3097 1959 3097 \r\nz\r\nM 1959 3584 \r\nQ 2709 3584 3137 3096 \r\nQ 3566 2609 3566 1747 \r\nQ 3566 888 3137 398 \r\nQ 2709 -91 1959 -91 \r\nQ 1206 -91 779 398 \r\nQ 353 888 353 1747 \r\nQ 353 2609 779 3096 \r\nQ 1206 3584 1959 3584 \r\nz\r\n\" id=\"DejaVuSans-6f\" transform=\"scale(0.015625)\"/>\r\n      </defs>\r\n      <use xlink:href=\"#DejaVuSans-73\"/>\r\n      <use x=\"52.099609\" xlink:href=\"#DejaVuSans-6c\"/>\r\n      <use x=\"79.882812\" xlink:href=\"#DejaVuSans-6f\"/>\r\n      <use x=\"141.064453\" xlink:href=\"#DejaVuSans-70\"/>\r\n      <use x=\"204.541016\" xlink:href=\"#DejaVuSans-65\"/>\r\n     </g>\r\n    </g>\r\n    <g id=\"patch_3\">\r\n     <path d=\"M 180.816 97.92 \r\nL 247.776 97.92 \r\nL 247.776 85.92 \r\nL 180.816 85.92 \r\nz\r\n\" style=\"fill:#ffffff;stroke:#000000;stroke-linejoin:miter;\"/>\r\n    </g>\r\n    <g id=\"text_3\">\r\n     <!-- coefficient / R^2 -->\r\n     <g transform=\"translate(205.926781 92.471875)scale(0.02 -0.02)\">\r\n      <defs>\r\n       <path d=\"M 2375 4863 \r\nL 2375 4384 \r\nL 1825 4384 \r\nQ 1516 4384 1395 4259 \r\nQ 1275 4134 1275 3809 \r\nL 1275 3500 \r\nL 2222 3500 \r\nL 2222 3053 \r\nL 1275 3053 \r\nL 1275 0 \r\nL 697 0 \r\nL 697 3053 \r\nL 147 3053 \r\nL 147 3500 \r\nL 697 3500 \r\nL 697 3744 \r\nQ 697 4328 969 4595 \r\nQ 1241 4863 1831 4863 \r\nL 2375 4863 \r\nz\r\n\" id=\"DejaVuSans-66\" transform=\"scale(0.015625)\"/>\r\n       <path id=\"DejaVuSans-20\" transform=\"scale(0.015625)\"/>\r\n       <path d=\"M 1625 4666 \r\nL 2156 4666 \r\nL 531 -594 \r\nL 0 -594 \r\nL 1625 4666 \r\nz\r\n\" id=\"DejaVuSans-2f\" transform=\"scale(0.015625)\"/>\r\n       <path d=\"M 2841 2188 \r\nQ 3044 2119 3236 1894 \r\nQ 3428 1669 3622 1275 \r\nL 4263 0 \r\nL 3584 0 \r\nL 2988 1197 \r\nQ 2756 1666 2539 1819 \r\nQ 2322 1972 1947 1972 \r\nL 1259 1972 \r\nL 1259 0 \r\nL 628 0 \r\nL 628 4666 \r\nL 2053 4666 \r\nQ 2853 4666 3247 4331 \r\nQ 3641 3997 3641 3322 \r\nQ 3641 2881 3436 2590 \r\nQ 3231 2300 2841 2188 \r\nz\r\nM 1259 4147 \r\nL 1259 2491 \r\nL 2053 2491 \r\nQ 2509 2491 2742 2702 \r\nQ 2975 2913 2975 3322 \r\nQ 2975 3731 2742 3939 \r\nQ 2509 4147 2053 4147 \r\nL 1259 4147 \r\nz\r\n\" id=\"DejaVuSans-52\" transform=\"scale(0.015625)\"/>\r\n       <path d=\"M 2988 4666 \r\nL 4684 2925 \r\nL 4056 2925 \r\nL 2681 4159 \r\nL 1306 2925 \r\nL 678 2925 \r\nL 2375 4666 \r\nL 2988 4666 \r\nz\r\n\" id=\"DejaVuSans-5e\" transform=\"scale(0.015625)\"/>\r\n       <path d=\"M 1228 531 \r\nL 3431 531 \r\nL 3431 0 \r\nL 469 0 \r\nL 469 531 \r\nQ 828 903 1448 1529 \r\nQ 2069 2156 2228 2338 \r\nQ 2531 2678 2651 2914 \r\nQ 2772 3150 2772 3378 \r\nQ 2772 3750 2511 3984 \r\nQ 2250 4219 1831 4219 \r\nQ 1534 4219 1204 4116 \r\nQ 875 4013 500 3803 \r\nL 500 4441 \r\nQ 881 4594 1212 4672 \r\nQ 1544 4750 1819 4750 \r\nQ 2544 4750 2975 4387 \r\nQ 3406 4025 3406 3419 \r\nQ 3406 3131 3298 2873 \r\nQ 3191 2616 2906 2266 \r\nQ 2828 2175 2409 1742 \r\nQ 1991 1309 1228 531 \r\nz\r\n\" id=\"DejaVuSans-32\" transform=\"scale(0.015625)\"/>\r\n      </defs>\r\n      <use xlink:href=\"#DejaVuSans-63\"/>\r\n      <use x=\"54.980469\" xlink:href=\"#DejaVuSans-6f\"/>\r\n      <use x=\"116.162109\" xlink:href=\"#DejaVuSans-65\"/>\r\n      <use x=\"177.685547\" xlink:href=\"#DejaVuSans-66\"/>\r\n      <use x=\"212.890625\" xlink:href=\"#DejaVuSans-66\"/>\r\n      <use x=\"248.095703\" xlink:href=\"#DejaVuSans-69\"/>\r\n      <use x=\"275.878906\" xlink:href=\"#DejaVuSans-63\"/>\r\n      <use x=\"330.859375\" xlink:href=\"#DejaVuSans-69\"/>\r\n      <use x=\"358.642578\" xlink:href=\"#DejaVuSans-65\"/>\r\n      <use x=\"420.166016\" xlink:href=\"#DejaVuSans-6e\"/>\r\n      <use x=\"483.544922\" xlink:href=\"#DejaVuSans-74\"/>\r\n      <use x=\"522.753906\" xlink:href=\"#DejaVuSans-20\"/>\r\n      <use x=\"554.541016\" xlink:href=\"#DejaVuSans-2f\"/>\r\n      <use x=\"588.232422\" xlink:href=\"#DejaVuSans-20\"/>\r\n      <use x=\"620.019531\" xlink:href=\"#DejaVuSans-52\"/>\r\n      <use x=\"689.501953\" xlink:href=\"#DejaVuSans-5e\"/>\r\n      <use x=\"773.291016\" xlink:href=\"#DejaVuSans-32\"/>\r\n     </g>\r\n    </g>\r\n    <g id=\"patch_4\">\r\n     <path d=\"M 247.776 97.92 \r\nL 314.736 97.92 \r\nL 314.736 85.92 \r\nL 247.776 85.92 \r\nz\r\n\" style=\"fill:#ffffff;stroke:#000000;stroke-linejoin:miter;\"/>\r\n    </g>\r\n    <g id=\"text_4\">\r\n     <!-- accuracy -->\r\n     <g transform=\"translate(276.744125 92.471875)scale(0.02 -0.02)\">\r\n      <defs>\r\n       <path d=\"M 2194 1759 \r\nQ 1497 1759 1228 1600 \r\nQ 959 1441 959 1056 \r\nQ 959 750 1161 570 \r\nQ 1363 391 1709 391 \r\nQ 2188 391 2477 730 \r\nQ 2766 1069 2766 1631 \r\nL 2766 1759 \r\nL 2194 1759 \r\nz\r\nM 3341 1997 \r\nL 3341 0 \r\nL 2766 0 \r\nL 2766 531 \r\nQ 2569 213 2275 61 \r\nQ 1981 -91 1556 -91 \r\nQ 1019 -91 701 211 \r\nQ 384 513 384 1019 \r\nQ 384 1609 779 1909 \r\nQ 1175 2209 1959 2209 \r\nL 2766 2209 \r\nL 2766 2266 \r\nQ 2766 2663 2505 2880 \r\nQ 2244 3097 1772 3097 \r\nQ 1472 3097 1187 3025 \r\nQ 903 2953 641 2809 \r\nL 641 3341 \r\nQ 956 3463 1253 3523 \r\nQ 1550 3584 1831 3584 \r\nQ 2591 3584 2966 3190 \r\nQ 3341 2797 3341 1997 \r\nz\r\n\" id=\"DejaVuSans-61\" transform=\"scale(0.015625)\"/>\r\n       <path d=\"M 544 1381 \r\nL 544 3500 \r\nL 1119 3500 \r\nL 1119 1403 \r\nQ 1119 906 1312 657 \r\nQ 1506 409 1894 409 \r\nQ 2359 409 2629 706 \r\nQ 2900 1003 2900 1516 \r\nL 2900 3500 \r\nL 3475 3500 \r\nL 3475 0 \r\nL 2900 0 \r\nL 2900 538 \r\nQ 2691 219 2414 64 \r\nQ 2138 -91 1772 -91 \r\nQ 1169 -91 856 284 \r\nQ 544 659 544 1381 \r\nz\r\nM 1991 3584 \r\nL 1991 3584 \r\nz\r\n\" id=\"DejaVuSans-75\" transform=\"scale(0.015625)\"/>\r\n       <path d=\"M 2059 -325 \r\nQ 1816 -950 1584 -1140 \r\nQ 1353 -1331 966 -1331 \r\nL 506 -1331 \r\nL 506 -850 \r\nL 844 -850 \r\nQ 1081 -850 1212 -737 \r\nQ 1344 -625 1503 -206 \r\nL 1606 56 \r\nL 191 3500 \r\nL 800 3500 \r\nL 1894 763 \r\nL 2988 3500 \r\nL 3597 3500 \r\nL 2059 -325 \r\nz\r\n\" id=\"DejaVuSans-79\" transform=\"scale(0.015625)\"/>\r\n      </defs>\r\n      <use xlink:href=\"#DejaVuSans-61\"/>\r\n      <use x=\"61.279297\" xlink:href=\"#DejaVuSans-63\"/>\r\n      <use x=\"116.259766\" xlink:href=\"#DejaVuSans-63\"/>\r\n      <use x=\"171.240234\" xlink:href=\"#DejaVuSans-75\"/>\r\n      <use x=\"234.619141\" xlink:href=\"#DejaVuSans-72\"/>\r\n      <use x=\"275.732422\" xlink:href=\"#DejaVuSans-61\"/>\r\n      <use x=\"337.011719\" xlink:href=\"#DejaVuSans-63\"/>\r\n      <use x=\"391.992188\" xlink:href=\"#DejaVuSans-79\"/>\r\n     </g>\r\n    </g>\r\n    <g id=\"patch_5\">\r\n     <path d=\"M 314.736 97.92 \r\nL 381.696 97.92 \r\nL 381.696 85.92 \r\nL 314.736 85.92 \r\nz\r\n\" style=\"fill:#ffffff;stroke:#000000;stroke-linejoin:miter;\"/>\r\n    </g>\r\n    <g id=\"text_5\">\r\n     <!-- rmse -->\r\n     <g transform=\"translate(345.712094 92.471875)scale(0.02 -0.02)\">\r\n      <defs>\r\n       <path d=\"M 3328 2828 \r\nQ 3544 3216 3844 3400 \r\nQ 4144 3584 4550 3584 \r\nQ 5097 3584 5394 3201 \r\nQ 5691 2819 5691 2113 \r\nL 5691 0 \r\nL 5113 0 \r\nL 5113 2094 \r\nQ 5113 2597 4934 2840 \r\nQ 4756 3084 4391 3084 \r\nQ 3944 3084 3684 2787 \r\nQ 3425 2491 3425 1978 \r\nL 3425 0 \r\nL 2847 0 \r\nL 2847 2094 \r\nQ 2847 2600 2669 2842 \r\nQ 2491 3084 2119 3084 \r\nQ 1678 3084 1418 2786 \r\nQ 1159 2488 1159 1978 \r\nL 1159 0 \r\nL 581 0 \r\nL 581 3500 \r\nL 1159 3500 \r\nL 1159 2956 \r\nQ 1356 3278 1631 3431 \r\nQ 1906 3584 2284 3584 \r\nQ 2666 3584 2933 3390 \r\nQ 3200 3197 3328 2828 \r\nz\r\n\" id=\"DejaVuSans-6d\" transform=\"scale(0.015625)\"/>\r\n      </defs>\r\n      <use xlink:href=\"#DejaVuSans-72\"/>\r\n      <use x=\"39.363281\" xlink:href=\"#DejaVuSans-6d\"/>\r\n      <use x=\"136.775391\" xlink:href=\"#DejaVuSans-73\"/>\r\n      <use x=\"188.875\" xlink:href=\"#DejaVuSans-65\"/>\r\n     </g>\r\n    </g>\r\n    <g id=\"patch_6\">\r\n     <path d=\"M 7.2 109.92 \r\nL 46.896 109.92 \r\nL 46.896 97.92 \r\nL 7.2 97.92 \r\nz\r\n\" style=\"fill:#ffffff;stroke:#000000;stroke-linejoin:miter;\"/>\r\n    </g>\r\n    <g id=\"text_6\">\r\n     <!-- senti_score -->\r\n     <g transform=\"translate(11.1696 104.444062)scale(0.02 -0.02)\">\r\n      <defs>\r\n       <path d=\"M 3263 -1063 \r\nL 3263 -1509 \r\nL -63 -1509 \r\nL -63 -1063 \r\nL 3263 -1063 \r\nz\r\n\" id=\"DejaVuSans-5f\" transform=\"scale(0.015625)\"/>\r\n      </defs>\r\n      <use xlink:href=\"#DejaVuSans-73\"/>\r\n      <use x=\"52.099609\" xlink:href=\"#DejaVuSans-65\"/>\r\n      <use x=\"113.623047\" xlink:href=\"#DejaVuSans-6e\"/>\r\n      <use x=\"177.001953\" xlink:href=\"#DejaVuSans-74\"/>\r\n      <use x=\"216.210938\" xlink:href=\"#DejaVuSans-69\"/>\r\n      <use x=\"243.994141\" xlink:href=\"#DejaVuSans-5f\"/>\r\n      <use x=\"293.994141\" xlink:href=\"#DejaVuSans-73\"/>\r\n      <use x=\"346.09375\" xlink:href=\"#DejaVuSans-63\"/>\r\n      <use x=\"401.074219\" xlink:href=\"#DejaVuSans-6f\"/>\r\n      <use x=\"462.255859\" xlink:href=\"#DejaVuSans-72\"/>\r\n      <use x=\"501.119141\" xlink:href=\"#DejaVuSans-65\"/>\r\n     </g>\r\n    </g>\r\n    <g id=\"patch_7\">\r\n     <path d=\"M 46.896 109.92 \r\nL 113.856 109.92 \r\nL 113.856 97.92 \r\nL 46.896 97.92 \r\nz\r\n\" style=\"fill:#ffffff;stroke:#000000;stroke-linejoin:miter;\"/>\r\n    </g>\r\n    <g id=\"text_7\">\r\n     <!-- -0.016874238534612025 -->\r\n     <g transform=\"translate(81.625312 104.471875)scale(0.02 -0.02)\">\r\n      <defs>\r\n       <path d=\"M 313 2009 \r\nL 1997 2009 \r\nL 1997 1497 \r\nL 313 1497 \r\nL 313 2009 \r\nz\r\n\" id=\"DejaVuSans-2d\" transform=\"scale(0.015625)\"/>\r\n       <path d=\"M 2034 4250 \r\nQ 1547 4250 1301 3770 \r\nQ 1056 3291 1056 2328 \r\nQ 1056 1369 1301 889 \r\nQ 1547 409 2034 409 \r\nQ 2525 409 2770 889 \r\nQ 3016 1369 3016 2328 \r\nQ 3016 3291 2770 3770 \r\nQ 2525 4250 2034 4250 \r\nz\r\nM 2034 4750 \r\nQ 2819 4750 3233 4129 \r\nQ 3647 3509 3647 2328 \r\nQ 3647 1150 3233 529 \r\nQ 2819 -91 2034 -91 \r\nQ 1250 -91 836 529 \r\nQ 422 1150 422 2328 \r\nQ 422 3509 836 4129 \r\nQ 1250 4750 2034 4750 \r\nz\r\n\" id=\"DejaVuSans-30\" transform=\"scale(0.015625)\"/>\r\n       <path d=\"M 684 794 \r\nL 1344 794 \r\nL 1344 0 \r\nL 684 0 \r\nL 684 794 \r\nz\r\n\" id=\"DejaVuSans-2e\" transform=\"scale(0.015625)\"/>\r\n       <path d=\"M 794 531 \r\nL 1825 531 \r\nL 1825 4091 \r\nL 703 3866 \r\nL 703 4441 \r\nL 1819 4666 \r\nL 2450 4666 \r\nL 2450 531 \r\nL 3481 531 \r\nL 3481 0 \r\nL 794 0 \r\nL 794 531 \r\nz\r\n\" id=\"DejaVuSans-31\" transform=\"scale(0.015625)\"/>\r\n       <path d=\"M 2113 2584 \r\nQ 1688 2584 1439 2293 \r\nQ 1191 2003 1191 1497 \r\nQ 1191 994 1439 701 \r\nQ 1688 409 2113 409 \r\nQ 2538 409 2786 701 \r\nQ 3034 994 3034 1497 \r\nQ 3034 2003 2786 2293 \r\nQ 2538 2584 2113 2584 \r\nz\r\nM 3366 4563 \r\nL 3366 3988 \r\nQ 3128 4100 2886 4159 \r\nQ 2644 4219 2406 4219 \r\nQ 1781 4219 1451 3797 \r\nQ 1122 3375 1075 2522 \r\nQ 1259 2794 1537 2939 \r\nQ 1816 3084 2150 3084 \r\nQ 2853 3084 3261 2657 \r\nQ 3669 2231 3669 1497 \r\nQ 3669 778 3244 343 \r\nQ 2819 -91 2113 -91 \r\nQ 1303 -91 875 529 \r\nQ 447 1150 447 2328 \r\nQ 447 3434 972 4092 \r\nQ 1497 4750 2381 4750 \r\nQ 2619 4750 2861 4703 \r\nQ 3103 4656 3366 4563 \r\nz\r\n\" id=\"DejaVuSans-36\" transform=\"scale(0.015625)\"/>\r\n       <path d=\"M 2034 2216 \r\nQ 1584 2216 1326 1975 \r\nQ 1069 1734 1069 1313 \r\nQ 1069 891 1326 650 \r\nQ 1584 409 2034 409 \r\nQ 2484 409 2743 651 \r\nQ 3003 894 3003 1313 \r\nQ 3003 1734 2745 1975 \r\nQ 2488 2216 2034 2216 \r\nz\r\nM 1403 2484 \r\nQ 997 2584 770 2862 \r\nQ 544 3141 544 3541 \r\nQ 544 4100 942 4425 \r\nQ 1341 4750 2034 4750 \r\nQ 2731 4750 3128 4425 \r\nQ 3525 4100 3525 3541 \r\nQ 3525 3141 3298 2862 \r\nQ 3072 2584 2669 2484 \r\nQ 3125 2378 3379 2068 \r\nQ 3634 1759 3634 1313 \r\nQ 3634 634 3220 271 \r\nQ 2806 -91 2034 -91 \r\nQ 1263 -91 848 271 \r\nQ 434 634 434 1313 \r\nQ 434 1759 690 2068 \r\nQ 947 2378 1403 2484 \r\nz\r\nM 1172 3481 \r\nQ 1172 3119 1398 2916 \r\nQ 1625 2713 2034 2713 \r\nQ 2441 2713 2670 2916 \r\nQ 2900 3119 2900 3481 \r\nQ 2900 3844 2670 4047 \r\nQ 2441 4250 2034 4250 \r\nQ 1625 4250 1398 4047 \r\nQ 1172 3844 1172 3481 \r\nz\r\n\" id=\"DejaVuSans-38\" transform=\"scale(0.015625)\"/>\r\n       <path d=\"M 525 4666 \r\nL 3525 4666 \r\nL 3525 4397 \r\nL 1831 0 \r\nL 1172 0 \r\nL 2766 4134 \r\nL 525 4134 \r\nL 525 4666 \r\nz\r\n\" id=\"DejaVuSans-37\" transform=\"scale(0.015625)\"/>\r\n       <path d=\"M 2419 4116 \r\nL 825 1625 \r\nL 2419 1625 \r\nL 2419 4116 \r\nz\r\nM 2253 4666 \r\nL 3047 4666 \r\nL 3047 1625 \r\nL 3713 1625 \r\nL 3713 1100 \r\nL 3047 1100 \r\nL 3047 0 \r\nL 2419 0 \r\nL 2419 1100 \r\nL 313 1100 \r\nL 313 1709 \r\nL 2253 4666 \r\nz\r\n\" id=\"DejaVuSans-34\" transform=\"scale(0.015625)\"/>\r\n       <path d=\"M 2597 2516 \r\nQ 3050 2419 3304 2112 \r\nQ 3559 1806 3559 1356 \r\nQ 3559 666 3084 287 \r\nQ 2609 -91 1734 -91 \r\nQ 1441 -91 1130 -33 \r\nQ 819 25 488 141 \r\nL 488 750 \r\nQ 750 597 1062 519 \r\nQ 1375 441 1716 441 \r\nQ 2309 441 2620 675 \r\nQ 2931 909 2931 1356 \r\nQ 2931 1769 2642 2001 \r\nQ 2353 2234 1838 2234 \r\nL 1294 2234 \r\nL 1294 2753 \r\nL 1863 2753 \r\nQ 2328 2753 2575 2939 \r\nQ 2822 3125 2822 3475 \r\nQ 2822 3834 2567 4026 \r\nQ 2313 4219 1838 4219 \r\nQ 1578 4219 1281 4162 \r\nQ 984 4106 628 3988 \r\nL 628 4550 \r\nQ 988 4650 1302 4700 \r\nQ 1616 4750 1894 4750 \r\nQ 2613 4750 3031 4423 \r\nQ 3450 4097 3450 3541 \r\nQ 3450 3153 3228 2886 \r\nQ 3006 2619 2597 2516 \r\nz\r\n\" id=\"DejaVuSans-33\" transform=\"scale(0.015625)\"/>\r\n       <path d=\"M 691 4666 \r\nL 3169 4666 \r\nL 3169 4134 \r\nL 1269 4134 \r\nL 1269 2991 \r\nQ 1406 3038 1543 3061 \r\nQ 1681 3084 1819 3084 \r\nQ 2600 3084 3056 2656 \r\nQ 3513 2228 3513 1497 \r\nQ 3513 744 3044 326 \r\nQ 2575 -91 1722 -91 \r\nQ 1428 -91 1123 -41 \r\nQ 819 9 494 109 \r\nL 494 744 \r\nQ 775 591 1075 516 \r\nQ 1375 441 1709 441 \r\nQ 2250 441 2565 725 \r\nQ 2881 1009 2881 1497 \r\nQ 2881 1984 2565 2268 \r\nQ 2250 2553 1709 2553 \r\nQ 1456 2553 1204 2497 \r\nQ 953 2441 691 2322 \r\nL 691 4666 \r\nz\r\n\" id=\"DejaVuSans-35\" transform=\"scale(0.015625)\"/>\r\n      </defs>\r\n      <use xlink:href=\"#DejaVuSans-2d\"/>\r\n      <use x=\"36.083984\" xlink:href=\"#DejaVuSans-30\"/>\r\n      <use x=\"99.707031\" xlink:href=\"#DejaVuSans-2e\"/>\r\n      <use x=\"131.494141\" xlink:href=\"#DejaVuSans-30\"/>\r\n      <use x=\"195.117188\" xlink:href=\"#DejaVuSans-31\"/>\r\n      <use x=\"258.740234\" xlink:href=\"#DejaVuSans-36\"/>\r\n      <use x=\"322.363281\" xlink:href=\"#DejaVuSans-38\"/>\r\n      <use x=\"385.986328\" xlink:href=\"#DejaVuSans-37\"/>\r\n      <use x=\"449.609375\" xlink:href=\"#DejaVuSans-34\"/>\r\n      <use x=\"513.232422\" xlink:href=\"#DejaVuSans-32\"/>\r\n      <use x=\"576.855469\" xlink:href=\"#DejaVuSans-33\"/>\r\n      <use x=\"640.478516\" xlink:href=\"#DejaVuSans-38\"/>\r\n      <use x=\"704.101562\" xlink:href=\"#DejaVuSans-35\"/>\r\n      <use x=\"767.724609\" xlink:href=\"#DejaVuSans-33\"/>\r\n      <use x=\"831.347656\" xlink:href=\"#DejaVuSans-34\"/>\r\n      <use x=\"894.970703\" xlink:href=\"#DejaVuSans-36\"/>\r\n      <use x=\"958.59375\" xlink:href=\"#DejaVuSans-31\"/>\r\n      <use x=\"1022.216797\" xlink:href=\"#DejaVuSans-32\"/>\r\n      <use x=\"1085.839844\" xlink:href=\"#DejaVuSans-30\"/>\r\n      <use x=\"1149.462891\" xlink:href=\"#DejaVuSans-32\"/>\r\n      <use x=\"1213.085938\" xlink:href=\"#DejaVuSans-35\"/>\r\n     </g>\r\n    </g>\r\n    <g id=\"patch_8\">\r\n     <path d=\"M 113.856 109.92 \r\nL 180.816 109.92 \r\nL 180.816 97.92 \r\nL 113.856 97.92 \r\nz\r\n\" style=\"fill:#ffffff;stroke:#000000;stroke-linejoin:miter;\"/>\r\n    </g>\r\n    <g id=\"text_8\">\r\n     <!-- [0.12423411] -->\r\n     <g transform=\"translate(160.47125 104.471875)scale(0.02 -0.02)\">\r\n      <defs>\r\n       <path d=\"M 550 4863 \r\nL 1875 4863 \r\nL 1875 4416 \r\nL 1125 4416 \r\nL 1125 -397 \r\nL 1875 -397 \r\nL 1875 -844 \r\nL 550 -844 \r\nL 550 4863 \r\nz\r\n\" id=\"DejaVuSans-5b\" transform=\"scale(0.015625)\"/>\r\n       <path d=\"M 1947 4863 \r\nL 1947 -844 \r\nL 622 -844 \r\nL 622 -397 \r\nL 1369 -397 \r\nL 1369 4416 \r\nL 622 4416 \r\nL 622 4863 \r\nL 1947 4863 \r\nz\r\n\" id=\"DejaVuSans-5d\" transform=\"scale(0.015625)\"/>\r\n      </defs>\r\n      <use xlink:href=\"#DejaVuSans-5b\"/>\r\n      <use x=\"39.013672\" xlink:href=\"#DejaVuSans-30\"/>\r\n      <use x=\"102.636719\" xlink:href=\"#DejaVuSans-2e\"/>\r\n      <use x=\"134.423828\" xlink:href=\"#DejaVuSans-31\"/>\r\n      <use x=\"198.046875\" xlink:href=\"#DejaVuSans-32\"/>\r\n      <use x=\"261.669922\" xlink:href=\"#DejaVuSans-34\"/>\r\n      <use x=\"325.292969\" xlink:href=\"#DejaVuSans-32\"/>\r\n      <use x=\"388.916016\" xlink:href=\"#DejaVuSans-33\"/>\r\n      <use x=\"452.539062\" xlink:href=\"#DejaVuSans-34\"/>\r\n      <use x=\"516.162109\" xlink:href=\"#DejaVuSans-31\"/>\r\n      <use x=\"579.785156\" xlink:href=\"#DejaVuSans-31\"/>\r\n      <use x=\"643.408203\" xlink:href=\"#DejaVuSans-5d\"/>\r\n     </g>\r\n    </g>\r\n    <g id=\"patch_9\">\r\n     <path d=\"M 180.816 109.92 \r\nL 247.776 109.92 \r\nL 247.776 97.92 \r\nL 180.816 97.92 \r\nz\r\n\" style=\"fill:#ffffff;stroke:#000000;stroke-linejoin:miter;\"/>\r\n    </g>\r\n    <g id=\"text_9\">\r\n     <!-- 0.0044609503308571385 -->\r\n     <g transform=\"translate(214.994375 104.471875)scale(0.02 -0.02)\">\r\n      <defs>\r\n       <path d=\"M 703 97 \r\nL 703 672 \r\nQ 941 559 1184 500 \r\nQ 1428 441 1663 441 \r\nQ 2288 441 2617 861 \r\nQ 2947 1281 2994 2138 \r\nQ 2813 1869 2534 1725 \r\nQ 2256 1581 1919 1581 \r\nQ 1219 1581 811 2004 \r\nQ 403 2428 403 3163 \r\nQ 403 3881 828 4315 \r\nQ 1253 4750 1959 4750 \r\nQ 2769 4750 3195 4129 \r\nQ 3622 3509 3622 2328 \r\nQ 3622 1225 3098 567 \r\nQ 2575 -91 1691 -91 \r\nQ 1453 -91 1209 -44 \r\nQ 966 3 703 97 \r\nz\r\nM 1959 2075 \r\nQ 2384 2075 2632 2365 \r\nQ 2881 2656 2881 3163 \r\nQ 2881 3666 2632 3958 \r\nQ 2384 4250 1959 4250 \r\nQ 1534 4250 1286 3958 \r\nQ 1038 3666 1038 3163 \r\nQ 1038 2656 1286 2365 \r\nQ 1534 2075 1959 2075 \r\nz\r\n\" id=\"DejaVuSans-39\" transform=\"scale(0.015625)\"/>\r\n      </defs>\r\n      <use xlink:href=\"#DejaVuSans-30\"/>\r\n      <use x=\"63.623047\" xlink:href=\"#DejaVuSans-2e\"/>\r\n      <use x=\"95.410156\" xlink:href=\"#DejaVuSans-30\"/>\r\n      <use x=\"159.033203\" xlink:href=\"#DejaVuSans-30\"/>\r\n      <use x=\"222.65625\" xlink:href=\"#DejaVuSans-34\"/>\r\n      <use x=\"286.279297\" xlink:href=\"#DejaVuSans-34\"/>\r\n      <use x=\"349.902344\" xlink:href=\"#DejaVuSans-36\"/>\r\n      <use x=\"413.525391\" xlink:href=\"#DejaVuSans-30\"/>\r\n      <use x=\"477.148438\" xlink:href=\"#DejaVuSans-39\"/>\r\n      <use x=\"540.771484\" xlink:href=\"#DejaVuSans-35\"/>\r\n      <use x=\"604.394531\" xlink:href=\"#DejaVuSans-30\"/>\r\n      <use x=\"668.017578\" xlink:href=\"#DejaVuSans-33\"/>\r\n      <use x=\"731.640625\" xlink:href=\"#DejaVuSans-33\"/>\r\n      <use x=\"795.263672\" xlink:href=\"#DejaVuSans-30\"/>\r\n      <use x=\"858.886719\" xlink:href=\"#DejaVuSans-38\"/>\r\n      <use x=\"922.509766\" xlink:href=\"#DejaVuSans-35\"/>\r\n      <use x=\"986.132812\" xlink:href=\"#DejaVuSans-37\"/>\r\n      <use x=\"1049.755859\" xlink:href=\"#DejaVuSans-31\"/>\r\n      <use x=\"1113.378906\" xlink:href=\"#DejaVuSans-33\"/>\r\n      <use x=\"1177.001953\" xlink:href=\"#DejaVuSans-38\"/>\r\n      <use x=\"1240.625\" xlink:href=\"#DejaVuSans-35\"/>\r\n     </g>\r\n    </g>\r\n    <g id=\"patch_10\">\r\n     <path d=\"M 247.776 109.92 \r\nL 314.736 109.92 \r\nL 314.736 97.92 \r\nL 247.776 97.92 \r\nz\r\n\" style=\"fill:#ffffff;stroke:#000000;stroke-linejoin:miter;\"/>\r\n    </g>\r\n    <g id=\"text_10\">\r\n     <!-- 0.32701676162166626 -->\r\n     <g transform=\"translate(284.499375 104.471875)scale(0.02 -0.02)\">\r\n      <use xlink:href=\"#DejaVuSans-30\"/>\r\n      <use x=\"63.623047\" xlink:href=\"#DejaVuSans-2e\"/>\r\n      <use x=\"95.410156\" xlink:href=\"#DejaVuSans-33\"/>\r\n      <use x=\"159.033203\" xlink:href=\"#DejaVuSans-32\"/>\r\n      <use x=\"222.65625\" xlink:href=\"#DejaVuSans-37\"/>\r\n      <use x=\"286.279297\" xlink:href=\"#DejaVuSans-30\"/>\r\n      <use x=\"349.902344\" xlink:href=\"#DejaVuSans-31\"/>\r\n      <use x=\"413.525391\" xlink:href=\"#DejaVuSans-36\"/>\r\n      <use x=\"477.148438\" xlink:href=\"#DejaVuSans-37\"/>\r\n      <use x=\"540.771484\" xlink:href=\"#DejaVuSans-36\"/>\r\n      <use x=\"604.394531\" xlink:href=\"#DejaVuSans-31\"/>\r\n      <use x=\"668.017578\" xlink:href=\"#DejaVuSans-36\"/>\r\n      <use x=\"731.640625\" xlink:href=\"#DejaVuSans-32\"/>\r\n      <use x=\"795.263672\" xlink:href=\"#DejaVuSans-31\"/>\r\n      <use x=\"858.886719\" xlink:href=\"#DejaVuSans-36\"/>\r\n      <use x=\"922.509766\" xlink:href=\"#DejaVuSans-36\"/>\r\n      <use x=\"986.132812\" xlink:href=\"#DejaVuSans-36\"/>\r\n      <use x=\"1049.755859\" xlink:href=\"#DejaVuSans-32\"/>\r\n      <use x=\"1113.378906\" xlink:href=\"#DejaVuSans-36\"/>\r\n     </g>\r\n    </g>\r\n    <g id=\"patch_11\">\r\n     <path d=\"M 314.736 109.92 \r\nL 381.696 109.92 \r\nL 381.696 97.92 \r\nL 314.736 97.92 \r\nz\r\n\" style=\"fill:#ffffff;stroke:#000000;stroke-linejoin:miter;\"/>\r\n    </g>\r\n    <g id=\"text_11\">\r\n     <!-- 0.9242867535604766 -->\r\n     <g transform=\"translate(352.731875 104.471875)scale(0.02 -0.02)\">\r\n      <use xlink:href=\"#DejaVuSans-30\"/>\r\n      <use x=\"63.623047\" xlink:href=\"#DejaVuSans-2e\"/>\r\n      <use x=\"95.410156\" xlink:href=\"#DejaVuSans-39\"/>\r\n      <use x=\"159.033203\" xlink:href=\"#DejaVuSans-32\"/>\r\n      <use x=\"222.65625\" xlink:href=\"#DejaVuSans-34\"/>\r\n      <use x=\"286.279297\" xlink:href=\"#DejaVuSans-32\"/>\r\n      <use x=\"349.902344\" xlink:href=\"#DejaVuSans-38\"/>\r\n      <use x=\"413.525391\" xlink:href=\"#DejaVuSans-36\"/>\r\n      <use x=\"477.148438\" xlink:href=\"#DejaVuSans-37\"/>\r\n      <use x=\"540.771484\" xlink:href=\"#DejaVuSans-35\"/>\r\n      <use x=\"604.394531\" xlink:href=\"#DejaVuSans-33\"/>\r\n      <use x=\"668.017578\" xlink:href=\"#DejaVuSans-35\"/>\r\n      <use x=\"731.640625\" xlink:href=\"#DejaVuSans-36\"/>\r\n      <use x=\"795.263672\" xlink:href=\"#DejaVuSans-30\"/>\r\n      <use x=\"858.886719\" xlink:href=\"#DejaVuSans-34\"/>\r\n      <use x=\"922.509766\" xlink:href=\"#DejaVuSans-37\"/>\r\n      <use x=\"986.132812\" xlink:href=\"#DejaVuSans-36\"/>\r\n      <use x=\"1049.755859\" xlink:href=\"#DejaVuSans-36\"/>\r\n     </g>\r\n    </g>\r\n    <g id=\"patch_12\">\r\n     <path d=\"M 7.2 121.92 \r\nL 46.896 121.92 \r\nL 46.896 109.92 \r\nL 7.2 109.92 \r\nz\r\n\" style=\"fill:#ffffff;stroke:#000000;stroke-linejoin:miter;\"/>\r\n    </g>\r\n    <g id=\"text_12\">\r\n     <!-- senti_pos_score, senti_neg_score -->\r\n     <g transform=\"translate(11.1696 116.444062)scale(0.02 -0.02)\">\r\n      <defs>\r\n       <path d=\"M 750 794 \r\nL 1409 794 \r\nL 1409 256 \r\nL 897 -744 \r\nL 494 -744 \r\nL 750 256 \r\nL 750 794 \r\nz\r\n\" id=\"DejaVuSans-2c\" transform=\"scale(0.015625)\"/>\r\n       <path d=\"M 2906 1791 \r\nQ 2906 2416 2648 2759 \r\nQ 2391 3103 1925 3103 \r\nQ 1463 3103 1205 2759 \r\nQ 947 2416 947 1791 \r\nQ 947 1169 1205 825 \r\nQ 1463 481 1925 481 \r\nQ 2391 481 2648 825 \r\nQ 2906 1169 2906 1791 \r\nz\r\nM 3481 434 \r\nQ 3481 -459 3084 -895 \r\nQ 2688 -1331 1869 -1331 \r\nQ 1566 -1331 1297 -1286 \r\nQ 1028 -1241 775 -1147 \r\nL 775 -588 \r\nQ 1028 -725 1275 -790 \r\nQ 1522 -856 1778 -856 \r\nQ 2344 -856 2625 -561 \r\nQ 2906 -266 2906 331 \r\nL 2906 616 \r\nQ 2728 306 2450 153 \r\nQ 2172 0 1784 0 \r\nQ 1141 0 747 490 \r\nQ 353 981 353 1791 \r\nQ 353 2603 747 3093 \r\nQ 1141 3584 1784 3584 \r\nQ 2172 3584 2450 3431 \r\nQ 2728 3278 2906 2969 \r\nL 2906 3500 \r\nL 3481 3500 \r\nL 3481 434 \r\nz\r\n\" id=\"DejaVuSans-67\" transform=\"scale(0.015625)\"/>\r\n      </defs>\r\n      <use xlink:href=\"#DejaVuSans-73\"/>\r\n      <use x=\"52.099609\" xlink:href=\"#DejaVuSans-65\"/>\r\n      <use x=\"113.623047\" xlink:href=\"#DejaVuSans-6e\"/>\r\n      <use x=\"177.001953\" xlink:href=\"#DejaVuSans-74\"/>\r\n      <use x=\"216.210938\" xlink:href=\"#DejaVuSans-69\"/>\r\n      <use x=\"243.994141\" xlink:href=\"#DejaVuSans-5f\"/>\r\n      <use x=\"293.994141\" xlink:href=\"#DejaVuSans-70\"/>\r\n      <use x=\"357.470703\" xlink:href=\"#DejaVuSans-6f\"/>\r\n      <use x=\"418.652344\" xlink:href=\"#DejaVuSans-73\"/>\r\n      <use x=\"470.751953\" xlink:href=\"#DejaVuSans-5f\"/>\r\n      <use x=\"520.751953\" xlink:href=\"#DejaVuSans-73\"/>\r\n      <use x=\"572.851562\" xlink:href=\"#DejaVuSans-63\"/>\r\n      <use x=\"627.832031\" xlink:href=\"#DejaVuSans-6f\"/>\r\n      <use x=\"689.013672\" xlink:href=\"#DejaVuSans-72\"/>\r\n      <use x=\"727.876953\" xlink:href=\"#DejaVuSans-65\"/>\r\n      <use x=\"789.400391\" xlink:href=\"#DejaVuSans-2c\"/>\r\n      <use x=\"821.1875\" xlink:href=\"#DejaVuSans-20\"/>\r\n      <use x=\"852.974609\" xlink:href=\"#DejaVuSans-73\"/>\r\n      <use x=\"905.074219\" xlink:href=\"#DejaVuSans-65\"/>\r\n      <use x=\"966.597656\" xlink:href=\"#DejaVuSans-6e\"/>\r\n      <use x=\"1029.976562\" xlink:href=\"#DejaVuSans-74\"/>\r\n      <use x=\"1069.185547\" xlink:href=\"#DejaVuSans-69\"/>\r\n      <use x=\"1096.96875\" xlink:href=\"#DejaVuSans-5f\"/>\r\n      <use x=\"1146.96875\" xlink:href=\"#DejaVuSans-6e\"/>\r\n      <use x=\"1210.347656\" xlink:href=\"#DejaVuSans-65\"/>\r\n      <use x=\"1271.871094\" xlink:href=\"#DejaVuSans-67\"/>\r\n      <use x=\"1335.347656\" xlink:href=\"#DejaVuSans-5f\"/>\r\n      <use x=\"1385.347656\" xlink:href=\"#DejaVuSans-73\"/>\r\n      <use x=\"1437.447266\" xlink:href=\"#DejaVuSans-63\"/>\r\n      <use x=\"1492.427734\" xlink:href=\"#DejaVuSans-6f\"/>\r\n      <use x=\"1553.609375\" xlink:href=\"#DejaVuSans-72\"/>\r\n      <use x=\"1592.472656\" xlink:href=\"#DejaVuSans-65\"/>\r\n     </g>\r\n    </g>\r\n    <g id=\"patch_13\">\r\n     <path d=\"M 46.896 121.92 \r\nL 113.856 121.92 \r\nL 113.856 109.92 \r\nL 46.896 109.92 \r\nz\r\n\" style=\"fill:#ffffff;stroke:#000000;stroke-linejoin:miter;\"/>\r\n    </g>\r\n    <g id=\"text_13\">\r\n     <!-- -0.04998481365563526 -->\r\n     <g transform=\"translate(82.897812 116.471875)scale(0.02 -0.02)\">\r\n      <use xlink:href=\"#DejaVuSans-2d\"/>\r\n      <use x=\"36.083984\" xlink:href=\"#DejaVuSans-30\"/>\r\n      <use x=\"99.707031\" xlink:href=\"#DejaVuSans-2e\"/>\r\n      <use x=\"131.494141\" xlink:href=\"#DejaVuSans-30\"/>\r\n      <use x=\"195.117188\" xlink:href=\"#DejaVuSans-34\"/>\r\n      <use x=\"258.740234\" xlink:href=\"#DejaVuSans-39\"/>\r\n      <use x=\"322.363281\" xlink:href=\"#DejaVuSans-39\"/>\r\n      <use x=\"385.986328\" xlink:href=\"#DejaVuSans-38\"/>\r\n      <use x=\"449.609375\" xlink:href=\"#DejaVuSans-34\"/>\r\n      <use x=\"513.232422\" xlink:href=\"#DejaVuSans-38\"/>\r\n      <use x=\"576.855469\" xlink:href=\"#DejaVuSans-31\"/>\r\n      <use x=\"640.478516\" xlink:href=\"#DejaVuSans-33\"/>\r\n      <use x=\"704.101562\" xlink:href=\"#DejaVuSans-36\"/>\r\n      <use x=\"767.724609\" xlink:href=\"#DejaVuSans-35\"/>\r\n      <use x=\"831.347656\" xlink:href=\"#DejaVuSans-35\"/>\r\n      <use x=\"894.970703\" xlink:href=\"#DejaVuSans-36\"/>\r\n      <use x=\"958.59375\" xlink:href=\"#DejaVuSans-33\"/>\r\n      <use x=\"1022.216797\" xlink:href=\"#DejaVuSans-35\"/>\r\n      <use x=\"1085.839844\" xlink:href=\"#DejaVuSans-32\"/>\r\n      <use x=\"1149.462891\" xlink:href=\"#DejaVuSans-36\"/>\r\n     </g>\r\n    </g>\r\n    <g id=\"patch_14\">\r\n     <path d=\"M 113.856 121.92 \r\nL 180.816 121.92 \r\nL 180.816 109.92 \r\nL 113.856 109.92 \r\nz\r\n\" style=\"fill:#ffffff;stroke:#000000;stroke-linejoin:miter;\"/>\r\n    </g>\r\n    <g id=\"text_14\">\r\n     <!-- [ 0.23649712 -0.09491429] -->\r\n     <g transform=\"translate(146.390312 116.471875)scale(0.02 -0.02)\">\r\n      <use xlink:href=\"#DejaVuSans-5b\"/>\r\n      <use x=\"39.013672\" xlink:href=\"#DejaVuSans-20\"/>\r\n      <use x=\"70.800781\" xlink:href=\"#DejaVuSans-30\"/>\r\n      <use x=\"134.423828\" xlink:href=\"#DejaVuSans-2e\"/>\r\n      <use x=\"166.210938\" xlink:href=\"#DejaVuSans-32\"/>\r\n      <use x=\"229.833984\" xlink:href=\"#DejaVuSans-33\"/>\r\n      <use x=\"293.457031\" xlink:href=\"#DejaVuSans-36\"/>\r\n      <use x=\"357.080078\" xlink:href=\"#DejaVuSans-34\"/>\r\n      <use x=\"420.703125\" xlink:href=\"#DejaVuSans-39\"/>\r\n      <use x=\"484.326172\" xlink:href=\"#DejaVuSans-37\"/>\r\n      <use x=\"547.949219\" xlink:href=\"#DejaVuSans-31\"/>\r\n      <use x=\"611.572266\" xlink:href=\"#DejaVuSans-32\"/>\r\n      <use x=\"675.195312\" xlink:href=\"#DejaVuSans-20\"/>\r\n      <use x=\"706.982422\" xlink:href=\"#DejaVuSans-2d\"/>\r\n      <use x=\"743.066406\" xlink:href=\"#DejaVuSans-30\"/>\r\n      <use x=\"806.689453\" xlink:href=\"#DejaVuSans-2e\"/>\r\n      <use x=\"838.476562\" xlink:href=\"#DejaVuSans-30\"/>\r\n      <use x=\"902.099609\" xlink:href=\"#DejaVuSans-39\"/>\r\n      <use x=\"965.722656\" xlink:href=\"#DejaVuSans-34\"/>\r\n      <use x=\"1029.345703\" xlink:href=\"#DejaVuSans-39\"/>\r\n      <use x=\"1092.96875\" xlink:href=\"#DejaVuSans-31\"/>\r\n      <use x=\"1156.591797\" xlink:href=\"#DejaVuSans-34\"/>\r\n      <use x=\"1220.214844\" xlink:href=\"#DejaVuSans-32\"/>\r\n      <use x=\"1283.837891\" xlink:href=\"#DejaVuSans-39\"/>\r\n      <use x=\"1347.460938\" xlink:href=\"#DejaVuSans-5d\"/>\r\n     </g>\r\n    </g>\r\n    <g id=\"patch_15\">\r\n     <path d=\"M 180.816 121.92 \r\nL 247.776 121.92 \r\nL 247.776 109.92 \r\nL 180.816 109.92 \r\nz\r\n\" style=\"fill:#ffffff;stroke:#000000;stroke-linejoin:miter;\"/>\r\n    </g>\r\n    <g id=\"text_15\">\r\n     <!-- 0.008126332336750863 -->\r\n     <g transform=\"translate(216.266875 116.471875)scale(0.02 -0.02)\">\r\n      <use xlink:href=\"#DejaVuSans-30\"/>\r\n      <use x=\"63.623047\" xlink:href=\"#DejaVuSans-2e\"/>\r\n      <use x=\"95.410156\" xlink:href=\"#DejaVuSans-30\"/>\r\n      <use x=\"159.033203\" xlink:href=\"#DejaVuSans-30\"/>\r\n      <use x=\"222.65625\" xlink:href=\"#DejaVuSans-38\"/>\r\n      <use x=\"286.279297\" xlink:href=\"#DejaVuSans-31\"/>\r\n      <use x=\"349.902344\" xlink:href=\"#DejaVuSans-32\"/>\r\n      <use x=\"413.525391\" xlink:href=\"#DejaVuSans-36\"/>\r\n      <use x=\"477.148438\" xlink:href=\"#DejaVuSans-33\"/>\r\n      <use x=\"540.771484\" xlink:href=\"#DejaVuSans-33\"/>\r\n      <use x=\"604.394531\" xlink:href=\"#DejaVuSans-32\"/>\r\n      <use x=\"668.017578\" xlink:href=\"#DejaVuSans-33\"/>\r\n      <use x=\"731.640625\" xlink:href=\"#DejaVuSans-33\"/>\r\n      <use x=\"795.263672\" xlink:href=\"#DejaVuSans-36\"/>\r\n      <use x=\"858.886719\" xlink:href=\"#DejaVuSans-37\"/>\r\n      <use x=\"922.509766\" xlink:href=\"#DejaVuSans-35\"/>\r\n      <use x=\"986.132812\" xlink:href=\"#DejaVuSans-30\"/>\r\n      <use x=\"1049.755859\" xlink:href=\"#DejaVuSans-38\"/>\r\n      <use x=\"1113.378906\" xlink:href=\"#DejaVuSans-36\"/>\r\n      <use x=\"1177.001953\" xlink:href=\"#DejaVuSans-33\"/>\r\n     </g>\r\n    </g>\r\n    <g id=\"patch_16\">\r\n     <path d=\"M 247.776 121.92 \r\nL 314.736 121.92 \r\nL 314.736 109.92 \r\nL 247.776 109.92 \r\nz\r\n\" style=\"fill:#ffffff;stroke:#000000;stroke-linejoin:miter;\"/>\r\n    </g>\r\n    <g id=\"text_16\">\r\n     <!-- 0.3421063495995376 -->\r\n     <g transform=\"translate(285.771875 116.471875)scale(0.02 -0.02)\">\r\n      <use xlink:href=\"#DejaVuSans-30\"/>\r\n      <use x=\"63.623047\" xlink:href=\"#DejaVuSans-2e\"/>\r\n      <use x=\"95.410156\" xlink:href=\"#DejaVuSans-33\"/>\r\n      <use x=\"159.033203\" xlink:href=\"#DejaVuSans-34\"/>\r\n      <use x=\"222.65625\" xlink:href=\"#DejaVuSans-32\"/>\r\n      <use x=\"286.279297\" xlink:href=\"#DejaVuSans-31\"/>\r\n      <use x=\"349.902344\" xlink:href=\"#DejaVuSans-30\"/>\r\n      <use x=\"413.525391\" xlink:href=\"#DejaVuSans-36\"/>\r\n      <use x=\"477.148438\" xlink:href=\"#DejaVuSans-33\"/>\r\n      <use x=\"540.771484\" xlink:href=\"#DejaVuSans-34\"/>\r\n      <use x=\"604.394531\" xlink:href=\"#DejaVuSans-39\"/>\r\n      <use x=\"668.017578\" xlink:href=\"#DejaVuSans-35\"/>\r\n      <use x=\"731.640625\" xlink:href=\"#DejaVuSans-39\"/>\r\n      <use x=\"795.263672\" xlink:href=\"#DejaVuSans-39\"/>\r\n      <use x=\"858.886719\" xlink:href=\"#DejaVuSans-35\"/>\r\n      <use x=\"922.509766\" xlink:href=\"#DejaVuSans-33\"/>\r\n      <use x=\"986.132812\" xlink:href=\"#DejaVuSans-37\"/>\r\n      <use x=\"1049.755859\" xlink:href=\"#DejaVuSans-36\"/>\r\n     </g>\r\n    </g>\r\n    <g id=\"patch_17\">\r\n     <path d=\"M 314.736 121.92 \r\nL 381.696 121.92 \r\nL 381.696 109.92 \r\nL 314.736 109.92 \r\nz\r\n\" style=\"fill:#ffffff;stroke:#000000;stroke-linejoin:miter;\"/>\r\n    </g>\r\n    <g id=\"text_17\">\r\n     <!-- 0.9887172096963478 -->\r\n     <g transform=\"translate(352.731875 116.471875)scale(0.02 -0.02)\">\r\n      <use xlink:href=\"#DejaVuSans-30\"/>\r\n      <use x=\"63.623047\" xlink:href=\"#DejaVuSans-2e\"/>\r\n      <use x=\"95.410156\" xlink:href=\"#DejaVuSans-39\"/>\r\n      <use x=\"159.033203\" xlink:href=\"#DejaVuSans-38\"/>\r\n      <use x=\"222.65625\" xlink:href=\"#DejaVuSans-38\"/>\r\n      <use x=\"286.279297\" xlink:href=\"#DejaVuSans-37\"/>\r\n      <use x=\"349.902344\" xlink:href=\"#DejaVuSans-31\"/>\r\n      <use x=\"413.525391\" xlink:href=\"#DejaVuSans-37\"/>\r\n      <use x=\"477.148438\" xlink:href=\"#DejaVuSans-32\"/>\r\n      <use x=\"540.771484\" xlink:href=\"#DejaVuSans-30\"/>\r\n      <use x=\"604.394531\" xlink:href=\"#DejaVuSans-39\"/>\r\n      <use x=\"668.017578\" xlink:href=\"#DejaVuSans-36\"/>\r\n      <use x=\"731.640625\" xlink:href=\"#DejaVuSans-39\"/>\r\n      <use x=\"795.263672\" xlink:href=\"#DejaVuSans-36\"/>\r\n      <use x=\"858.886719\" xlink:href=\"#DejaVuSans-33\"/>\r\n      <use x=\"922.509766\" xlink:href=\"#DejaVuSans-34\"/>\r\n      <use x=\"986.132812\" xlink:href=\"#DejaVuSans-37\"/>\r\n      <use x=\"1049.755859\" xlink:href=\"#DejaVuSans-38\"/>\r\n     </g>\r\n    </g>\r\n    <g id=\"patch_18\">\r\n     <path d=\"M 7.2 133.92 \r\nL 46.896 133.92 \r\nL 46.896 121.92 \r\nL 7.2 121.92 \r\nz\r\n\" style=\"fill:#ffffff;stroke:#000000;stroke-linejoin:miter;\"/>\r\n    </g>\r\n    <g id=\"text_18\">\r\n     <!-- with open -->\r\n     <g transform=\"translate(11.1696 128.471875)scale(0.02 -0.02)\">\r\n      <defs>\r\n       <path d=\"M 269 3500 \r\nL 844 3500 \r\nL 1563 769 \r\nL 2278 3500 \r\nL 2956 3500 \r\nL 3675 769 \r\nL 4391 3500 \r\nL 4966 3500 \r\nL 4050 0 \r\nL 3372 0 \r\nL 2619 2869 \r\nL 1863 0 \r\nL 1184 0 \r\nL 269 3500 \r\nz\r\n\" id=\"DejaVuSans-77\" transform=\"scale(0.015625)\"/>\r\n       <path d=\"M 3513 2113 \r\nL 3513 0 \r\nL 2938 0 \r\nL 2938 2094 \r\nQ 2938 2591 2744 2837 \r\nQ 2550 3084 2163 3084 \r\nQ 1697 3084 1428 2787 \r\nQ 1159 2491 1159 1978 \r\nL 1159 0 \r\nL 581 0 \r\nL 581 4863 \r\nL 1159 4863 \r\nL 1159 2956 \r\nQ 1366 3272 1645 3428 \r\nQ 1925 3584 2291 3584 \r\nQ 2894 3584 3203 3211 \r\nQ 3513 2838 3513 2113 \r\nz\r\n\" id=\"DejaVuSans-68\" transform=\"scale(0.015625)\"/>\r\n      </defs>\r\n      <use xlink:href=\"#DejaVuSans-77\"/>\r\n      <use x=\"81.787109\" xlink:href=\"#DejaVuSans-69\"/>\r\n      <use x=\"109.570312\" xlink:href=\"#DejaVuSans-74\"/>\r\n      <use x=\"148.779297\" xlink:href=\"#DejaVuSans-68\"/>\r\n      <use x=\"212.158203\" xlink:href=\"#DejaVuSans-20\"/>\r\n      <use x=\"243.945312\" xlink:href=\"#DejaVuSans-6f\"/>\r\n      <use x=\"305.126953\" xlink:href=\"#DejaVuSans-70\"/>\r\n      <use x=\"368.603516\" xlink:href=\"#DejaVuSans-65\"/>\r\n      <use x=\"430.126953\" xlink:href=\"#DejaVuSans-6e\"/>\r\n     </g>\r\n    </g>\r\n    <g id=\"patch_19\">\r\n     <path d=\"M 46.896 133.92 \r\nL 113.856 133.92 \r\nL 113.856 121.92 \r\nL 46.896 121.92 \r\nz\r\n\" style=\"fill:#ffffff;stroke:#000000;stroke-linejoin:miter;\"/>\r\n    </g>\r\n    <g id=\"text_19\">\r\n     <!-- -0.0501091137775396 -->\r\n     <g transform=\"translate(84.170312 128.471875)scale(0.02 -0.02)\">\r\n      <use xlink:href=\"#DejaVuSans-2d\"/>\r\n      <use x=\"36.083984\" xlink:href=\"#DejaVuSans-30\"/>\r\n      <use x=\"99.707031\" xlink:href=\"#DejaVuSans-2e\"/>\r\n      <use x=\"131.494141\" xlink:href=\"#DejaVuSans-30\"/>\r\n      <use x=\"195.117188\" xlink:href=\"#DejaVuSans-35\"/>\r\n      <use x=\"258.740234\" xlink:href=\"#DejaVuSans-30\"/>\r\n      <use x=\"322.363281\" xlink:href=\"#DejaVuSans-31\"/>\r\n      <use x=\"385.986328\" xlink:href=\"#DejaVuSans-30\"/>\r\n      <use x=\"449.609375\" xlink:href=\"#DejaVuSans-39\"/>\r\n      <use x=\"513.232422\" xlink:href=\"#DejaVuSans-31\"/>\r\n      <use x=\"576.855469\" xlink:href=\"#DejaVuSans-31\"/>\r\n      <use x=\"640.478516\" xlink:href=\"#DejaVuSans-33\"/>\r\n      <use x=\"704.101562\" xlink:href=\"#DejaVuSans-37\"/>\r\n      <use x=\"767.724609\" xlink:href=\"#DejaVuSans-37\"/>\r\n      <use x=\"831.347656\" xlink:href=\"#DejaVuSans-37\"/>\r\n      <use x=\"894.970703\" xlink:href=\"#DejaVuSans-35\"/>\r\n      <use x=\"958.59375\" xlink:href=\"#DejaVuSans-33\"/>\r\n      <use x=\"1022.216797\" xlink:href=\"#DejaVuSans-39\"/>\r\n      <use x=\"1085.839844\" xlink:href=\"#DejaVuSans-36\"/>\r\n     </g>\r\n    </g>\r\n    <g id=\"patch_20\">\r\n     <path d=\"M 113.856 133.92 \r\nL 180.816 133.92 \r\nL 180.816 121.92 \r\nL 113.856 121.92 \r\nz\r\n\" style=\"fill:#ffffff;stroke:#000000;stroke-linejoin:miter;\"/>\r\n    </g>\r\n    <g id=\"text_20\">\r\n     <!-- [ 2.36460986e-01 -9.48706881e-02  1.33825838e-06] -->\r\n     <g transform=\"translate(119.539375 128.471875)scale(0.02 -0.02)\">\r\n      <use xlink:href=\"#DejaVuSans-5b\"/>\r\n      <use x=\"39.013672\" xlink:href=\"#DejaVuSans-20\"/>\r\n      <use x=\"70.800781\" xlink:href=\"#DejaVuSans-32\"/>\r\n      <use x=\"134.423828\" xlink:href=\"#DejaVuSans-2e\"/>\r\n      <use x=\"166.210938\" xlink:href=\"#DejaVuSans-33\"/>\r\n      <use x=\"229.833984\" xlink:href=\"#DejaVuSans-36\"/>\r\n      <use x=\"293.457031\" xlink:href=\"#DejaVuSans-34\"/>\r\n      <use x=\"357.080078\" xlink:href=\"#DejaVuSans-36\"/>\r\n      <use x=\"420.703125\" xlink:href=\"#DejaVuSans-30\"/>\r\n      <use x=\"484.326172\" xlink:href=\"#DejaVuSans-39\"/>\r\n      <use x=\"547.949219\" xlink:href=\"#DejaVuSans-38\"/>\r\n      <use x=\"611.572266\" xlink:href=\"#DejaVuSans-36\"/>\r\n      <use x=\"675.195312\" xlink:href=\"#DejaVuSans-65\"/>\r\n      <use x=\"736.71875\" xlink:href=\"#DejaVuSans-2d\"/>\r\n      <use x=\"772.802734\" xlink:href=\"#DejaVuSans-30\"/>\r\n      <use x=\"836.425781\" xlink:href=\"#DejaVuSans-31\"/>\r\n      <use x=\"900.048828\" xlink:href=\"#DejaVuSans-20\"/>\r\n      <use x=\"931.835938\" xlink:href=\"#DejaVuSans-2d\"/>\r\n      <use x=\"967.919922\" xlink:href=\"#DejaVuSans-39\"/>\r\n      <use x=\"1031.542969\" xlink:href=\"#DejaVuSans-2e\"/>\r\n      <use x=\"1063.330078\" xlink:href=\"#DejaVuSans-34\"/>\r\n      <use x=\"1126.953125\" xlink:href=\"#DejaVuSans-38\"/>\r\n      <use x=\"1190.576172\" xlink:href=\"#DejaVuSans-37\"/>\r\n      <use x=\"1254.199219\" xlink:href=\"#DejaVuSans-30\"/>\r\n      <use x=\"1317.822266\" xlink:href=\"#DejaVuSans-36\"/>\r\n      <use x=\"1381.445312\" xlink:href=\"#DejaVuSans-38\"/>\r\n      <use x=\"1445.068359\" xlink:href=\"#DejaVuSans-38\"/>\r\n      <use x=\"1508.691406\" xlink:href=\"#DejaVuSans-31\"/>\r\n      <use x=\"1572.314453\" xlink:href=\"#DejaVuSans-65\"/>\r\n      <use x=\"1633.837891\" xlink:href=\"#DejaVuSans-2d\"/>\r\n      <use x=\"1669.921875\" xlink:href=\"#DejaVuSans-30\"/>\r\n      <use x=\"1733.544922\" xlink:href=\"#DejaVuSans-32\"/>\r\n      <use x=\"1797.167969\" xlink:href=\"#DejaVuSans-20\"/>\r\n      <use x=\"1828.955078\" xlink:href=\"#DejaVuSans-20\"/>\r\n      <use x=\"1860.742188\" xlink:href=\"#DejaVuSans-31\"/>\r\n      <use x=\"1924.365234\" xlink:href=\"#DejaVuSans-2e\"/>\r\n      <use x=\"1956.152344\" xlink:href=\"#DejaVuSans-33\"/>\r\n      <use x=\"2019.775391\" xlink:href=\"#DejaVuSans-33\"/>\r\n      <use x=\"2083.398438\" xlink:href=\"#DejaVuSans-38\"/>\r\n      <use x=\"2147.021484\" xlink:href=\"#DejaVuSans-32\"/>\r\n      <use x=\"2210.644531\" xlink:href=\"#DejaVuSans-35\"/>\r\n      <use x=\"2274.267578\" xlink:href=\"#DejaVuSans-38\"/>\r\n      <use x=\"2337.890625\" xlink:href=\"#DejaVuSans-33\"/>\r\n      <use x=\"2401.513672\" xlink:href=\"#DejaVuSans-38\"/>\r\n      <use x=\"2465.136719\" xlink:href=\"#DejaVuSans-65\"/>\r\n      <use x=\"2526.660156\" xlink:href=\"#DejaVuSans-2d\"/>\r\n      <use x=\"2562.744141\" xlink:href=\"#DejaVuSans-30\"/>\r\n      <use x=\"2626.367188\" xlink:href=\"#DejaVuSans-36\"/>\r\n      <use x=\"2689.990234\" xlink:href=\"#DejaVuSans-5d\"/>\r\n     </g>\r\n    </g>\r\n    <g id=\"patch_21\">\r\n     <path d=\"M 180.816 133.92 \r\nL 247.776 133.92 \r\nL 247.776 121.92 \r\nL 180.816 121.92 \r\nz\r\n\" style=\"fill:#ffffff;stroke:#000000;stroke-linejoin:miter;\"/>\r\n    </g>\r\n    <g id=\"text_21\">\r\n     <!-- 0.008137582705067925 -->\r\n     <g transform=\"translate(216.266875 128.471875)scale(0.02 -0.02)\">\r\n      <use xlink:href=\"#DejaVuSans-30\"/>\r\n      <use x=\"63.623047\" xlink:href=\"#DejaVuSans-2e\"/>\r\n      <use x=\"95.410156\" xlink:href=\"#DejaVuSans-30\"/>\r\n      <use x=\"159.033203\" xlink:href=\"#DejaVuSans-30\"/>\r\n      <use x=\"222.65625\" xlink:href=\"#DejaVuSans-38\"/>\r\n      <use x=\"286.279297\" xlink:href=\"#DejaVuSans-31\"/>\r\n      <use x=\"349.902344\" xlink:href=\"#DejaVuSans-33\"/>\r\n      <use x=\"413.525391\" xlink:href=\"#DejaVuSans-37\"/>\r\n      <use x=\"477.148438\" xlink:href=\"#DejaVuSans-35\"/>\r\n      <use x=\"540.771484\" xlink:href=\"#DejaVuSans-38\"/>\r\n      <use x=\"604.394531\" xlink:href=\"#DejaVuSans-32\"/>\r\n      <use x=\"668.017578\" xlink:href=\"#DejaVuSans-37\"/>\r\n      <use x=\"731.640625\" xlink:href=\"#DejaVuSans-30\"/>\r\n      <use x=\"795.263672\" xlink:href=\"#DejaVuSans-35\"/>\r\n      <use x=\"858.886719\" xlink:href=\"#DejaVuSans-30\"/>\r\n      <use x=\"922.509766\" xlink:href=\"#DejaVuSans-36\"/>\r\n      <use x=\"986.132812\" xlink:href=\"#DejaVuSans-37\"/>\r\n      <use x=\"1049.755859\" xlink:href=\"#DejaVuSans-39\"/>\r\n      <use x=\"1113.378906\" xlink:href=\"#DejaVuSans-32\"/>\r\n      <use x=\"1177.001953\" xlink:href=\"#DejaVuSans-35\"/>\r\n     </g>\r\n    </g>\r\n    <g id=\"patch_22\">\r\n     <path d=\"M 247.776 133.92 \r\nL 314.736 133.92 \r\nL 314.736 121.92 \r\nL 247.776 121.92 \r\nz\r\n\" style=\"fill:#ffffff;stroke:#000000;stroke-linejoin:miter;\"/>\r\n    </g>\r\n    <g id=\"text_22\">\r\n     <!-- 0.3871686896210057 -->\r\n     <g transform=\"translate(285.771875 128.471875)scale(0.02 -0.02)\">\r\n      <use xlink:href=\"#DejaVuSans-30\"/>\r\n      <use x=\"63.623047\" xlink:href=\"#DejaVuSans-2e\"/>\r\n      <use x=\"95.410156\" xlink:href=\"#DejaVuSans-33\"/>\r\n      <use x=\"159.033203\" xlink:href=\"#DejaVuSans-38\"/>\r\n      <use x=\"222.65625\" xlink:href=\"#DejaVuSans-37\"/>\r\n      <use x=\"286.279297\" xlink:href=\"#DejaVuSans-31\"/>\r\n      <use x=\"349.902344\" xlink:href=\"#DejaVuSans-36\"/>\r\n      <use x=\"413.525391\" xlink:href=\"#DejaVuSans-38\"/>\r\n      <use x=\"477.148438\" xlink:href=\"#DejaVuSans-36\"/>\r\n      <use x=\"540.771484\" xlink:href=\"#DejaVuSans-38\"/>\r\n      <use x=\"604.394531\" xlink:href=\"#DejaVuSans-39\"/>\r\n      <use x=\"668.017578\" xlink:href=\"#DejaVuSans-36\"/>\r\n      <use x=\"731.640625\" xlink:href=\"#DejaVuSans-32\"/>\r\n      <use x=\"795.263672\" xlink:href=\"#DejaVuSans-31\"/>\r\n      <use x=\"858.886719\" xlink:href=\"#DejaVuSans-30\"/>\r\n      <use x=\"922.509766\" xlink:href=\"#DejaVuSans-30\"/>\r\n      <use x=\"986.132812\" xlink:href=\"#DejaVuSans-35\"/>\r\n      <use x=\"1049.755859\" xlink:href=\"#DejaVuSans-37\"/>\r\n     </g>\r\n    </g>\r\n    <g id=\"patch_23\">\r\n     <path d=\"M 314.736 133.92 \r\nL 381.696 133.92 \r\nL 381.696 121.92 \r\nL 314.736 121.92 \r\nz\r\n\" style=\"fill:#ffffff;stroke:#000000;stroke-linejoin:miter;\"/>\r\n    </g>\r\n    <g id=\"text_23\">\r\n     <!-- 1.1021911655290675 -->\r\n     <g transform=\"translate(352.731875 128.471875)scale(0.02 -0.02)\">\r\n      <use xlink:href=\"#DejaVuSans-31\"/>\r\n      <use x=\"63.623047\" xlink:href=\"#DejaVuSans-2e\"/>\r\n      <use x=\"95.410156\" xlink:href=\"#DejaVuSans-31\"/>\r\n      <use x=\"159.033203\" xlink:href=\"#DejaVuSans-30\"/>\r\n      <use x=\"222.65625\" xlink:href=\"#DejaVuSans-32\"/>\r\n      <use x=\"286.279297\" xlink:href=\"#DejaVuSans-31\"/>\r\n      <use x=\"349.902344\" xlink:href=\"#DejaVuSans-39\"/>\r\n      <use x=\"413.525391\" xlink:href=\"#DejaVuSans-31\"/>\r\n      <use x=\"477.148438\" xlink:href=\"#DejaVuSans-31\"/>\r\n      <use x=\"540.771484\" xlink:href=\"#DejaVuSans-36\"/>\r\n      <use x=\"604.394531\" xlink:href=\"#DejaVuSans-35\"/>\r\n      <use x=\"668.017578\" xlink:href=\"#DejaVuSans-35\"/>\r\n      <use x=\"731.640625\" xlink:href=\"#DejaVuSans-32\"/>\r\n      <use x=\"795.263672\" xlink:href=\"#DejaVuSans-39\"/>\r\n      <use x=\"858.886719\" xlink:href=\"#DejaVuSans-30\"/>\r\n      <use x=\"922.509766\" xlink:href=\"#DejaVuSans-36\"/>\r\n      <use x=\"986.132812\" xlink:href=\"#DejaVuSans-37\"/>\r\n      <use x=\"1049.755859\" xlink:href=\"#DejaVuSans-35\"/>\r\n     </g>\r\n    </g>\r\n    <g id=\"patch_24\">\r\n     <path d=\"M 7.2 145.92 \r\nL 46.896 145.92 \r\nL 46.896 133.92 \r\nL 7.2 133.92 \r\nz\r\n\" style=\"fill:#ffffff;stroke:#000000;stroke-linejoin:miter;\"/>\r\n    </g>\r\n    <g id=\"text_24\">\r\n     <!-- with PublishCount -->\r\n     <g transform=\"translate(11.1696 140.471875)scale(0.02 -0.02)\">\r\n      <defs>\r\n       <path d=\"M 1259 4147 \r\nL 1259 2394 \r\nL 2053 2394 \r\nQ 2494 2394 2734 2622 \r\nQ 2975 2850 2975 3272 \r\nQ 2975 3691 2734 3919 \r\nQ 2494 4147 2053 4147 \r\nL 1259 4147 \r\nz\r\nM 628 4666 \r\nL 2053 4666 \r\nQ 2838 4666 3239 4311 \r\nQ 3641 3956 3641 3272 \r\nQ 3641 2581 3239 2228 \r\nQ 2838 1875 2053 1875 \r\nL 1259 1875 \r\nL 1259 0 \r\nL 628 0 \r\nL 628 4666 \r\nz\r\n\" id=\"DejaVuSans-50\" transform=\"scale(0.015625)\"/>\r\n       <path d=\"M 3116 1747 \r\nQ 3116 2381 2855 2742 \r\nQ 2594 3103 2138 3103 \r\nQ 1681 3103 1420 2742 \r\nQ 1159 2381 1159 1747 \r\nQ 1159 1113 1420 752 \r\nQ 1681 391 2138 391 \r\nQ 2594 391 2855 752 \r\nQ 3116 1113 3116 1747 \r\nz\r\nM 1159 2969 \r\nQ 1341 3281 1617 3432 \r\nQ 1894 3584 2278 3584 \r\nQ 2916 3584 3314 3078 \r\nQ 3713 2572 3713 1747 \r\nQ 3713 922 3314 415 \r\nQ 2916 -91 2278 -91 \r\nQ 1894 -91 1617 61 \r\nQ 1341 213 1159 525 \r\nL 1159 0 \r\nL 581 0 \r\nL 581 4863 \r\nL 1159 4863 \r\nL 1159 2969 \r\nz\r\n\" id=\"DejaVuSans-62\" transform=\"scale(0.015625)\"/>\r\n       <path d=\"M 4122 4306 \r\nL 4122 3641 \r\nQ 3803 3938 3442 4084 \r\nQ 3081 4231 2675 4231 \r\nQ 1875 4231 1450 3742 \r\nQ 1025 3253 1025 2328 \r\nQ 1025 1406 1450 917 \r\nQ 1875 428 2675 428 \r\nQ 3081 428 3442 575 \r\nQ 3803 722 4122 1019 \r\nL 4122 359 \r\nQ 3791 134 3420 21 \r\nQ 3050 -91 2638 -91 \r\nQ 1578 -91 968 557 \r\nQ 359 1206 359 2328 \r\nQ 359 3453 968 4101 \r\nQ 1578 4750 2638 4750 \r\nQ 3056 4750 3426 4639 \r\nQ 3797 4528 4122 4306 \r\nz\r\n\" id=\"DejaVuSans-43\" transform=\"scale(0.015625)\"/>\r\n      </defs>\r\n      <use xlink:href=\"#DejaVuSans-77\"/>\r\n      <use x=\"81.787109\" xlink:href=\"#DejaVuSans-69\"/>\r\n      <use x=\"109.570312\" xlink:href=\"#DejaVuSans-74\"/>\r\n      <use x=\"148.779297\" xlink:href=\"#DejaVuSans-68\"/>\r\n      <use x=\"212.158203\" xlink:href=\"#DejaVuSans-20\"/>\r\n      <use x=\"243.945312\" xlink:href=\"#DejaVuSans-50\"/>\r\n      <use x=\"302.498047\" xlink:href=\"#DejaVuSans-75\"/>\r\n      <use x=\"365.876953\" xlink:href=\"#DejaVuSans-62\"/>\r\n      <use x=\"429.353516\" xlink:href=\"#DejaVuSans-6c\"/>\r\n      <use x=\"457.136719\" xlink:href=\"#DejaVuSans-69\"/>\r\n      <use x=\"484.919922\" xlink:href=\"#DejaVuSans-73\"/>\r\n      <use x=\"537.019531\" xlink:href=\"#DejaVuSans-68\"/>\r\n      <use x=\"600.398438\" xlink:href=\"#DejaVuSans-43\"/>\r\n      <use x=\"670.222656\" xlink:href=\"#DejaVuSans-6f\"/>\r\n      <use x=\"731.404297\" xlink:href=\"#DejaVuSans-75\"/>\r\n      <use x=\"794.783203\" xlink:href=\"#DejaVuSans-6e\"/>\r\n      <use x=\"858.162109\" xlink:href=\"#DejaVuSans-74\"/>\r\n     </g>\r\n    </g>\r\n    <g id=\"patch_25\">\r\n     <path d=\"M 46.896 145.92 \r\nL 113.856 145.92 \r\nL 113.856 133.92 \r\nL 46.896 133.92 \r\nz\r\n\" style=\"fill:#ffffff;stroke:#000000;stroke-linejoin:miter;\"/>\r\n    </g>\r\n    <g id=\"text_25\">\r\n     <!-- -0.04065701369402629 -->\r\n     <g transform=\"translate(82.897812 140.471875)scale(0.02 -0.02)\">\r\n      <use xlink:href=\"#DejaVuSans-2d\"/>\r\n      <use x=\"36.083984\" xlink:href=\"#DejaVuSans-30\"/>\r\n      <use x=\"99.707031\" xlink:href=\"#DejaVuSans-2e\"/>\r\n      <use x=\"131.494141\" xlink:href=\"#DejaVuSans-30\"/>\r\n      <use x=\"195.117188\" xlink:href=\"#DejaVuSans-34\"/>\r\n      <use x=\"258.740234\" xlink:href=\"#DejaVuSans-30\"/>\r\n      <use x=\"322.363281\" xlink:href=\"#DejaVuSans-36\"/>\r\n      <use x=\"385.986328\" xlink:href=\"#DejaVuSans-35\"/>\r\n      <use x=\"449.609375\" xlink:href=\"#DejaVuSans-37\"/>\r\n      <use x=\"513.232422\" xlink:href=\"#DejaVuSans-30\"/>\r\n      <use x=\"576.855469\" xlink:href=\"#DejaVuSans-31\"/>\r\n      <use x=\"640.478516\" xlink:href=\"#DejaVuSans-33\"/>\r\n      <use x=\"704.101562\" xlink:href=\"#DejaVuSans-36\"/>\r\n      <use x=\"767.724609\" xlink:href=\"#DejaVuSans-39\"/>\r\n      <use x=\"831.347656\" xlink:href=\"#DejaVuSans-34\"/>\r\n      <use x=\"894.970703\" xlink:href=\"#DejaVuSans-30\"/>\r\n      <use x=\"958.59375\" xlink:href=\"#DejaVuSans-32\"/>\r\n      <use x=\"1022.216797\" xlink:href=\"#DejaVuSans-36\"/>\r\n      <use x=\"1085.839844\" xlink:href=\"#DejaVuSans-32\"/>\r\n      <use x=\"1149.462891\" xlink:href=\"#DejaVuSans-39\"/>\r\n     </g>\r\n    </g>\r\n    <g id=\"patch_26\">\r\n     <path d=\"M 113.856 145.92 \r\nL 180.816 145.92 \r\nL 180.816 133.92 \r\nL 113.856 133.92 \r\nz\r\n\" style=\"fill:#ffffff;stroke:#000000;stroke-linejoin:miter;\"/>\r\n    </g>\r\n    <g id=\"text_26\">\r\n     <!-- [ 0.23712122 -0.09750165 -0.00257365] -->\r\n     <g transform=\"translate(132.945 140.471875)scale(0.02 -0.02)\">\r\n      <use xlink:href=\"#DejaVuSans-5b\"/>\r\n      <use x=\"39.013672\" xlink:href=\"#DejaVuSans-20\"/>\r\n      <use x=\"70.800781\" xlink:href=\"#DejaVuSans-30\"/>\r\n      <use x=\"134.423828\" xlink:href=\"#DejaVuSans-2e\"/>\r\n      <use x=\"166.210938\" xlink:href=\"#DejaVuSans-32\"/>\r\n      <use x=\"229.833984\" xlink:href=\"#DejaVuSans-33\"/>\r\n      <use x=\"293.457031\" xlink:href=\"#DejaVuSans-37\"/>\r\n      <use x=\"357.080078\" xlink:href=\"#DejaVuSans-31\"/>\r\n      <use x=\"420.703125\" xlink:href=\"#DejaVuSans-32\"/>\r\n      <use x=\"484.326172\" xlink:href=\"#DejaVuSans-31\"/>\r\n      <use x=\"547.949219\" xlink:href=\"#DejaVuSans-32\"/>\r\n      <use x=\"611.572266\" xlink:href=\"#DejaVuSans-32\"/>\r\n      <use x=\"675.195312\" xlink:href=\"#DejaVuSans-20\"/>\r\n      <use x=\"706.982422\" xlink:href=\"#DejaVuSans-2d\"/>\r\n      <use x=\"743.066406\" xlink:href=\"#DejaVuSans-30\"/>\r\n      <use x=\"806.689453\" xlink:href=\"#DejaVuSans-2e\"/>\r\n      <use x=\"838.476562\" xlink:href=\"#DejaVuSans-30\"/>\r\n      <use x=\"902.099609\" xlink:href=\"#DejaVuSans-39\"/>\r\n      <use x=\"965.722656\" xlink:href=\"#DejaVuSans-37\"/>\r\n      <use x=\"1029.345703\" xlink:href=\"#DejaVuSans-35\"/>\r\n      <use x=\"1092.96875\" xlink:href=\"#DejaVuSans-30\"/>\r\n      <use x=\"1156.591797\" xlink:href=\"#DejaVuSans-31\"/>\r\n      <use x=\"1220.214844\" xlink:href=\"#DejaVuSans-36\"/>\r\n      <use x=\"1283.837891\" xlink:href=\"#DejaVuSans-35\"/>\r\n      <use x=\"1347.460938\" xlink:href=\"#DejaVuSans-20\"/>\r\n      <use x=\"1379.248047\" xlink:href=\"#DejaVuSans-2d\"/>\r\n      <use x=\"1415.332031\" xlink:href=\"#DejaVuSans-30\"/>\r\n      <use x=\"1478.955078\" xlink:href=\"#DejaVuSans-2e\"/>\r\n      <use x=\"1510.742188\" xlink:href=\"#DejaVuSans-30\"/>\r\n      <use x=\"1574.365234\" xlink:href=\"#DejaVuSans-30\"/>\r\n      <use x=\"1637.988281\" xlink:href=\"#DejaVuSans-32\"/>\r\n      <use x=\"1701.611328\" xlink:href=\"#DejaVuSans-35\"/>\r\n      <use x=\"1765.234375\" xlink:href=\"#DejaVuSans-37\"/>\r\n      <use x=\"1828.857422\" xlink:href=\"#DejaVuSans-33\"/>\r\n      <use x=\"1892.480469\" xlink:href=\"#DejaVuSans-36\"/>\r\n      <use x=\"1956.103516\" xlink:href=\"#DejaVuSans-35\"/>\r\n      <use x=\"2019.726562\" xlink:href=\"#DejaVuSans-5d\"/>\r\n     </g>\r\n    </g>\r\n    <g id=\"patch_27\">\r\n     <path d=\"M 180.816 145.92 \r\nL 247.776 145.92 \r\nL 247.776 133.92 \r\nL 180.816 133.92 \r\nz\r\n\" style=\"fill:#ffffff;stroke:#000000;stroke-linejoin:miter;\"/>\r\n    </g>\r\n    <g id=\"text_27\">\r\n     <!-- 0.008292452426743924 -->\r\n     <g transform=\"translate(216.266875 140.471875)scale(0.02 -0.02)\">\r\n      <use xlink:href=\"#DejaVuSans-30\"/>\r\n      <use x=\"63.623047\" xlink:href=\"#DejaVuSans-2e\"/>\r\n      <use x=\"95.410156\" xlink:href=\"#DejaVuSans-30\"/>\r\n      <use x=\"159.033203\" xlink:href=\"#DejaVuSans-30\"/>\r\n      <use x=\"222.65625\" xlink:href=\"#DejaVuSans-38\"/>\r\n      <use x=\"286.279297\" xlink:href=\"#DejaVuSans-32\"/>\r\n      <use x=\"349.902344\" xlink:href=\"#DejaVuSans-39\"/>\r\n      <use x=\"413.525391\" xlink:href=\"#DejaVuSans-32\"/>\r\n      <use x=\"477.148438\" xlink:href=\"#DejaVuSans-34\"/>\r\n      <use x=\"540.771484\" xlink:href=\"#DejaVuSans-35\"/>\r\n      <use x=\"604.394531\" xlink:href=\"#DejaVuSans-32\"/>\r\n      <use x=\"668.017578\" xlink:href=\"#DejaVuSans-34\"/>\r\n      <use x=\"731.640625\" xlink:href=\"#DejaVuSans-32\"/>\r\n      <use x=\"795.263672\" xlink:href=\"#DejaVuSans-36\"/>\r\n      <use x=\"858.886719\" xlink:href=\"#DejaVuSans-37\"/>\r\n      <use x=\"922.509766\" xlink:href=\"#DejaVuSans-34\"/>\r\n      <use x=\"986.132812\" xlink:href=\"#DejaVuSans-33\"/>\r\n      <use x=\"1049.755859\" xlink:href=\"#DejaVuSans-39\"/>\r\n      <use x=\"1113.378906\" xlink:href=\"#DejaVuSans-32\"/>\r\n      <use x=\"1177.001953\" xlink:href=\"#DejaVuSans-34\"/>\r\n     </g>\r\n    </g>\r\n    <g id=\"patch_28\">\r\n     <path d=\"M 247.776 145.92 \r\nL 314.736 145.92 \r\nL 314.736 133.92 \r\nL 247.776 133.92 \r\nz\r\n\" style=\"fill:#ffffff;stroke:#000000;stroke-linejoin:miter;\"/>\r\n    </g>\r\n    <g id=\"text_28\">\r\n     <!-- 0.3606845016926761 -->\r\n     <g transform=\"translate(285.771875 140.471875)scale(0.02 -0.02)\">\r\n      <use xlink:href=\"#DejaVuSans-30\"/>\r\n      <use x=\"63.623047\" xlink:href=\"#DejaVuSans-2e\"/>\r\n      <use x=\"95.410156\" xlink:href=\"#DejaVuSans-33\"/>\r\n      <use x=\"159.033203\" xlink:href=\"#DejaVuSans-36\"/>\r\n      <use x=\"222.65625\" xlink:href=\"#DejaVuSans-30\"/>\r\n      <use x=\"286.279297\" xlink:href=\"#DejaVuSans-36\"/>\r\n      <use x=\"349.902344\" xlink:href=\"#DejaVuSans-38\"/>\r\n      <use x=\"413.525391\" xlink:href=\"#DejaVuSans-34\"/>\r\n      <use x=\"477.148438\" xlink:href=\"#DejaVuSans-35\"/>\r\n      <use x=\"540.771484\" xlink:href=\"#DejaVuSans-30\"/>\r\n      <use x=\"604.394531\" xlink:href=\"#DejaVuSans-31\"/>\r\n      <use x=\"668.017578\" xlink:href=\"#DejaVuSans-36\"/>\r\n      <use x=\"731.640625\" xlink:href=\"#DejaVuSans-39\"/>\r\n      <use x=\"795.263672\" xlink:href=\"#DejaVuSans-32\"/>\r\n      <use x=\"858.886719\" xlink:href=\"#DejaVuSans-36\"/>\r\n      <use x=\"922.509766\" xlink:href=\"#DejaVuSans-37\"/>\r\n      <use x=\"986.132812\" xlink:href=\"#DejaVuSans-36\"/>\r\n      <use x=\"1049.755859\" xlink:href=\"#DejaVuSans-31\"/>\r\n     </g>\r\n    </g>\r\n    <g id=\"patch_29\">\r\n     <path d=\"M 314.736 145.92 \r\nL 381.696 145.92 \r\nL 381.696 133.92 \r\nL 314.736 133.92 \r\nz\r\n\" style=\"fill:#ffffff;stroke:#000000;stroke-linejoin:miter;\"/>\r\n    </g>\r\n    <g id=\"text_29\">\r\n     <!-- 1.0385696260417039 -->\r\n     <g transform=\"translate(352.731875 140.471875)scale(0.02 -0.02)\">\r\n      <use xlink:href=\"#DejaVuSans-31\"/>\r\n      <use x=\"63.623047\" xlink:href=\"#DejaVuSans-2e\"/>\r\n      <use x=\"95.410156\" xlink:href=\"#DejaVuSans-30\"/>\r\n      <use x=\"159.033203\" xlink:href=\"#DejaVuSans-33\"/>\r\n      <use x=\"222.65625\" xlink:href=\"#DejaVuSans-38\"/>\r\n      <use x=\"286.279297\" xlink:href=\"#DejaVuSans-35\"/>\r\n      <use x=\"349.902344\" xlink:href=\"#DejaVuSans-36\"/>\r\n      <use x=\"413.525391\" xlink:href=\"#DejaVuSans-39\"/>\r\n      <use x=\"477.148438\" xlink:href=\"#DejaVuSans-36\"/>\r\n      <use x=\"540.771484\" xlink:href=\"#DejaVuSans-32\"/>\r\n      <use x=\"604.394531\" xlink:href=\"#DejaVuSans-36\"/>\r\n      <use x=\"668.017578\" xlink:href=\"#DejaVuSans-30\"/>\r\n      <use x=\"731.640625\" xlink:href=\"#DejaVuSans-34\"/>\r\n      <use x=\"795.263672\" xlink:href=\"#DejaVuSans-31\"/>\r\n      <use x=\"858.886719\" xlink:href=\"#DejaVuSans-37\"/>\r\n      <use x=\"922.509766\" xlink:href=\"#DejaVuSans-30\"/>\r\n      <use x=\"986.132812\" xlink:href=\"#DejaVuSans-33\"/>\r\n      <use x=\"1049.755859\" xlink:href=\"#DejaVuSans-39\"/>\r\n     </g>\r\n    </g>\r\n   </g>\r\n  </g>\r\n </g>\r\n</svg>\r\n",
      "image/png": "[encoded data removed]"
     },
     "metadata": {
      "needs_background": "light"
     }
    }
   ],
   "metadata": {}
  },
  {
   "cell_type": "markdown",
   "source": [
    "### Export Model"
   ],
   "metadata": {}
  },
  {
   "cell_type": "code",
   "execution_count": 16,
   "source": [
    "import joblib\r\n",
    "joblib.dump(model_sentiPosNeg, './deployment/model.pkl')"
   ],
   "outputs": [
    {
     "output_type": "execute_result",
     "data": {
      "text/plain": [
       "['./deployment/model.pkl']"
      ]
     },
     "metadata": {},
     "execution_count": 16
    }
   ],
   "metadata": {}
  }
 ],
 "metadata": {
  "orig_nbformat": 4,
  "language_info": {
   "name": "python",
   "version": "3.9.0",
   "mimetype": "text/x-python",
   "codemirror_mode": {
    "name": "ipython",
    "version": 3
   },
   "pygments_lexer": "ipython3",
   "nbconvert_exporter": "python",
   "file_extension": ".py"
  },
  "kernelspec": {
   "name": "python3",
   "display_name": "Python 3.9.0 64-bit"
  },
  "interpreter": {
   "hash": "a8327ca969e67acfb174d2156b20dcab911c90ffc28adc105921770300801578"
  }
 },
 "nbformat": 4,
 "nbformat_minor": 2
}